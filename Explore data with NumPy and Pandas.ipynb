{
 "cells": [
  {
   "cell_type": "code",
   "execution_count": 1,
   "id": "46304f74",
   "metadata": {},
   "outputs": [],
   "source": [
    "import numpy as np\n",
    "import pandas as pd\n",
    "from matplotlib import pyplot as plt\n",
    "import scipy.stats as stats\n",
    "from sklearn.preprocessing import MinMaxScaler\n",
    "\n",
    "%matplotlib inline"
   ]
  },
  {
   "cell_type": "code",
   "execution_count": 2,
   "id": "1c153c7f",
   "metadata": {},
   "outputs": [
    {
     "name": "stdout",
     "output_type": "stream",
     "text": [
      "[50, 50, 47, 97, 49, 3, 53, 42, 26, 74, 82, 62, 37, 15, 70, 27, 36, 35, 48, 52, 63, 64]\n"
     ]
    }
   ],
   "source": [
    "data = [50,50,47,97,49,3,53,42,26,74,82,62,37,15,70,27,36,35,48,52,63,64]\n",
    "print(data)"
   ]
  },
  {
   "cell_type": "code",
   "execution_count": 3,
   "id": "8424c53d",
   "metadata": {},
   "outputs": [
    {
     "data": {
      "text/plain": [
       "array([50, 50, 47, 97, 49,  3, 53, 42, 26, 74, 82, 62, 37, 15, 70, 27, 36,\n",
       "       35, 48, 52, 63, 64])"
      ]
     },
     "execution_count": 3,
     "metadata": {},
     "output_type": "execute_result"
    }
   ],
   "source": [
    "grades =  np.array(data)\n",
    "\n",
    "grades"
   ]
  },
  {
   "cell_type": "code",
   "execution_count": 4,
   "id": "671c2692",
   "metadata": {},
   "outputs": [
    {
     "name": "stdout",
     "output_type": "stream",
     "text": [
      "[50, 50, 47, 97, 49, 3, 53, 42, 26, 74, 82, 62, 37, 15, 70, 27, 36, 35, 48, 52, 63, 64, 50, 50, 47, 97, 49, 3, 53, 42, 26, 74, 82, 62, 37, 15, 70, 27, 36, 35, 48, 52, 63, 64]\n",
      "[100 100  94 194  98   6 106  84  52 148 164 124  74  30 140  54  72  70\n",
      "  96 104 126 128]\n"
     ]
    }
   ],
   "source": [
    "# Differences between lists and numpy array\n",
    "print(data * 2)\n",
    "print(grades* 2)"
   ]
  },
  {
   "cell_type": "code",
   "execution_count": 5,
   "id": "d177839b",
   "metadata": {},
   "outputs": [
    {
     "data": {
      "text/plain": [
       "49.18181818181818"
      ]
     },
     "execution_count": 5,
     "metadata": {},
     "output_type": "execute_result"
    }
   ],
   "source": [
    "grades.mean()"
   ]
  },
  {
   "cell_type": "code",
   "execution_count": 6,
   "id": "435ca371",
   "metadata": {},
   "outputs": [],
   "source": [
    "study_hours = [10.0,11.5,9.0,16.0,9.25,1.0,11.5,9.0,8.5,14.5,15.5,\n",
    "               13.75,9.0,8.0,15.5,8.0,9.0,6.0,10.0,12.0,12.5,12.0]"
   ]
  },
  {
   "cell_type": "code",
   "execution_count": 7,
   "id": "c4183127",
   "metadata": {},
   "outputs": [],
   "source": [
    "student_data = np.array([study_hours, grades])"
   ]
  },
  {
   "cell_type": "code",
   "execution_count": 8,
   "id": "0ac58f71",
   "metadata": {},
   "outputs": [
    {
     "data": {
      "text/plain": [
       "(2, 22)"
      ]
     },
     "execution_count": 8,
     "metadata": {},
     "output_type": "execute_result"
    }
   ],
   "source": [
    "student_data.shape"
   ]
  },
  {
   "cell_type": "code",
   "execution_count": 9,
   "id": "96ecb809",
   "metadata": {},
   "outputs": [
    {
     "name": "stdout",
     "output_type": "stream",
     "text": [
      "Avg study hr: 10.52 and Avg grade: 49.18\n"
     ]
    }
   ],
   "source": [
    "avg_study = student_data[0].mean()\n",
    "avg_grade = student_data[1].mean()\n",
    "\n",
    "print('Avg study hr: {:.2f} and Avg grade: {:.2f}'.format(avg_study, avg_grade))"
   ]
  },
  {
   "cell_type": "code",
   "execution_count": 10,
   "id": "bb11041a",
   "metadata": {},
   "outputs": [],
   "source": [
    "Name = ['Dan', 'Joann', 'Pedro', 'Rosie', 'Ethan', 'Vicky', 'Frederic', 'Jimmie', \n",
    "                                     'Rhonda', 'Giovanni', 'Francesca', 'Rajab', 'Naiyana', 'Kian', 'Jenny',\n",
    "                                     'Jakeem','Helena','Ismat','Anila','Skye','Daniel','Aisha']"
   ]
  },
  {
   "cell_type": "code",
   "execution_count": 11,
   "id": "92daea04",
   "metadata": {},
   "outputs": [],
   "source": [
    "student_data= np.array([data,study_hours,Name])"
   ]
  },
  {
   "cell_type": "code",
   "execution_count": 12,
   "id": "4492a27b",
   "metadata": {},
   "outputs": [
    {
     "data": {
      "text/plain": [
       "array([['50', '50', '47', '97', '49', '3', '53', '42', '26', '74', '82',\n",
       "        '62', '37', '15', '70', '27', '36', '35', '48', '52', '63', '64'],\n",
       "       ['10.0', '11.5', '9.0', '16.0', '9.25', '1.0', '11.5', '9.0',\n",
       "        '8.5', '14.5', '15.5', '13.75', '9.0', '8.0', '15.5', '8.0',\n",
       "        '9.0', '6.0', '10.0', '12.0', '12.5', '12.0'],\n",
       "       ['Dan', 'Joann', 'Pedro', 'Rosie', 'Ethan', 'Vicky', 'Frederic',\n",
       "        'Jimmie', 'Rhonda', 'Giovanni', 'Francesca', 'Rajab', 'Naiyana',\n",
       "        'Kian', 'Jenny', 'Jakeem', 'Helena', 'Ismat', 'Anila', 'Skye',\n",
       "        'Daniel', 'Aisha']], dtype='<U32')"
      ]
     },
     "execution_count": 12,
     "metadata": {},
     "output_type": "execute_result"
    }
   ],
   "source": [
    "student_data"
   ]
  },
  {
   "cell_type": "code",
   "execution_count": 13,
   "id": "d30f05ff",
   "metadata": {},
   "outputs": [],
   "source": [
    "df_students = pd.DataFrame(student_data)"
   ]
  },
  {
   "cell_type": "code",
   "execution_count": 14,
   "id": "6322e375",
   "metadata": {},
   "outputs": [],
   "source": [
    "df_students = df_students.T"
   ]
  },
  {
   "cell_type": "code",
   "execution_count": 15,
   "id": "281b7275",
   "metadata": {},
   "outputs": [
    {
     "data": {
      "text/html": [
       "<div>\n",
       "<style scoped>\n",
       "    .dataframe tbody tr th:only-of-type {\n",
       "        vertical-align: middle;\n",
       "    }\n",
       "\n",
       "    .dataframe tbody tr th {\n",
       "        vertical-align: top;\n",
       "    }\n",
       "\n",
       "    .dataframe thead th {\n",
       "        text-align: right;\n",
       "    }\n",
       "</style>\n",
       "<table border=\"1\" class=\"dataframe\">\n",
       "  <thead>\n",
       "    <tr style=\"text-align: right;\">\n",
       "      <th></th>\n",
       "      <th>0</th>\n",
       "      <th>1</th>\n",
       "      <th>2</th>\n",
       "    </tr>\n",
       "  </thead>\n",
       "  <tbody>\n",
       "    <tr>\n",
       "      <th>0</th>\n",
       "      <td>50</td>\n",
       "      <td>10.0</td>\n",
       "      <td>Dan</td>\n",
       "    </tr>\n",
       "    <tr>\n",
       "      <th>1</th>\n",
       "      <td>50</td>\n",
       "      <td>11.5</td>\n",
       "      <td>Joann</td>\n",
       "    </tr>\n",
       "    <tr>\n",
       "      <th>2</th>\n",
       "      <td>47</td>\n",
       "      <td>9.0</td>\n",
       "      <td>Pedro</td>\n",
       "    </tr>\n",
       "    <tr>\n",
       "      <th>3</th>\n",
       "      <td>97</td>\n",
       "      <td>16.0</td>\n",
       "      <td>Rosie</td>\n",
       "    </tr>\n",
       "    <tr>\n",
       "      <th>4</th>\n",
       "      <td>49</td>\n",
       "      <td>9.25</td>\n",
       "      <td>Ethan</td>\n",
       "    </tr>\n",
       "    <tr>\n",
       "      <th>5</th>\n",
       "      <td>3</td>\n",
       "      <td>1.0</td>\n",
       "      <td>Vicky</td>\n",
       "    </tr>\n",
       "    <tr>\n",
       "      <th>6</th>\n",
       "      <td>53</td>\n",
       "      <td>11.5</td>\n",
       "      <td>Frederic</td>\n",
       "    </tr>\n",
       "    <tr>\n",
       "      <th>7</th>\n",
       "      <td>42</td>\n",
       "      <td>9.0</td>\n",
       "      <td>Jimmie</td>\n",
       "    </tr>\n",
       "    <tr>\n",
       "      <th>8</th>\n",
       "      <td>26</td>\n",
       "      <td>8.5</td>\n",
       "      <td>Rhonda</td>\n",
       "    </tr>\n",
       "    <tr>\n",
       "      <th>9</th>\n",
       "      <td>74</td>\n",
       "      <td>14.5</td>\n",
       "      <td>Giovanni</td>\n",
       "    </tr>\n",
       "    <tr>\n",
       "      <th>10</th>\n",
       "      <td>82</td>\n",
       "      <td>15.5</td>\n",
       "      <td>Francesca</td>\n",
       "    </tr>\n",
       "    <tr>\n",
       "      <th>11</th>\n",
       "      <td>62</td>\n",
       "      <td>13.75</td>\n",
       "      <td>Rajab</td>\n",
       "    </tr>\n",
       "    <tr>\n",
       "      <th>12</th>\n",
       "      <td>37</td>\n",
       "      <td>9.0</td>\n",
       "      <td>Naiyana</td>\n",
       "    </tr>\n",
       "    <tr>\n",
       "      <th>13</th>\n",
       "      <td>15</td>\n",
       "      <td>8.0</td>\n",
       "      <td>Kian</td>\n",
       "    </tr>\n",
       "    <tr>\n",
       "      <th>14</th>\n",
       "      <td>70</td>\n",
       "      <td>15.5</td>\n",
       "      <td>Jenny</td>\n",
       "    </tr>\n",
       "    <tr>\n",
       "      <th>15</th>\n",
       "      <td>27</td>\n",
       "      <td>8.0</td>\n",
       "      <td>Jakeem</td>\n",
       "    </tr>\n",
       "    <tr>\n",
       "      <th>16</th>\n",
       "      <td>36</td>\n",
       "      <td>9.0</td>\n",
       "      <td>Helena</td>\n",
       "    </tr>\n",
       "    <tr>\n",
       "      <th>17</th>\n",
       "      <td>35</td>\n",
       "      <td>6.0</td>\n",
       "      <td>Ismat</td>\n",
       "    </tr>\n",
       "    <tr>\n",
       "      <th>18</th>\n",
       "      <td>48</td>\n",
       "      <td>10.0</td>\n",
       "      <td>Anila</td>\n",
       "    </tr>\n",
       "    <tr>\n",
       "      <th>19</th>\n",
       "      <td>52</td>\n",
       "      <td>12.0</td>\n",
       "      <td>Skye</td>\n",
       "    </tr>\n",
       "    <tr>\n",
       "      <th>20</th>\n",
       "      <td>63</td>\n",
       "      <td>12.5</td>\n",
       "      <td>Daniel</td>\n",
       "    </tr>\n",
       "    <tr>\n",
       "      <th>21</th>\n",
       "      <td>64</td>\n",
       "      <td>12.0</td>\n",
       "      <td>Aisha</td>\n",
       "    </tr>\n",
       "  </tbody>\n",
       "</table>\n",
       "</div>"
      ],
      "text/plain": [
       "     0      1          2\n",
       "0   50   10.0        Dan\n",
       "1   50   11.5      Joann\n",
       "2   47    9.0      Pedro\n",
       "3   97   16.0      Rosie\n",
       "4   49   9.25      Ethan\n",
       "5    3    1.0      Vicky\n",
       "6   53   11.5   Frederic\n",
       "7   42    9.0     Jimmie\n",
       "8   26    8.5     Rhonda\n",
       "9   74   14.5   Giovanni\n",
       "10  82   15.5  Francesca\n",
       "11  62  13.75      Rajab\n",
       "12  37    9.0    Naiyana\n",
       "13  15    8.0       Kian\n",
       "14  70   15.5      Jenny\n",
       "15  27    8.0     Jakeem\n",
       "16  36    9.0     Helena\n",
       "17  35    6.0      Ismat\n",
       "18  48   10.0      Anila\n",
       "19  52   12.0       Skye\n",
       "20  63   12.5     Daniel\n",
       "21  64   12.0      Aisha"
      ]
     },
     "execution_count": 15,
     "metadata": {},
     "output_type": "execute_result"
    }
   ],
   "source": [
    "df_students"
   ]
  },
  {
   "cell_type": "code",
   "execution_count": 16,
   "id": "3e66974f",
   "metadata": {},
   "outputs": [
    {
     "data": {
      "text/html": [
       "<div>\n",
       "<style scoped>\n",
       "    .dataframe tbody tr th:only-of-type {\n",
       "        vertical-align: middle;\n",
       "    }\n",
       "\n",
       "    .dataframe tbody tr th {\n",
       "        vertical-align: top;\n",
       "    }\n",
       "\n",
       "    .dataframe thead th {\n",
       "        text-align: right;\n",
       "    }\n",
       "</style>\n",
       "<table border=\"1\" class=\"dataframe\">\n",
       "  <thead>\n",
       "    <tr style=\"text-align: right;\">\n",
       "      <th></th>\n",
       "      <th>grades</th>\n",
       "      <th>study_hour</th>\n",
       "      <th>name</th>\n",
       "    </tr>\n",
       "  </thead>\n",
       "  <tbody>\n",
       "    <tr>\n",
       "      <th>0</th>\n",
       "      <td>50</td>\n",
       "      <td>10.0</td>\n",
       "      <td>Dan</td>\n",
       "    </tr>\n",
       "    <tr>\n",
       "      <th>1</th>\n",
       "      <td>50</td>\n",
       "      <td>11.5</td>\n",
       "      <td>Joann</td>\n",
       "    </tr>\n",
       "    <tr>\n",
       "      <th>2</th>\n",
       "      <td>47</td>\n",
       "      <td>9.0</td>\n",
       "      <td>Pedro</td>\n",
       "    </tr>\n",
       "    <tr>\n",
       "      <th>3</th>\n",
       "      <td>97</td>\n",
       "      <td>16.0</td>\n",
       "      <td>Rosie</td>\n",
       "    </tr>\n",
       "    <tr>\n",
       "      <th>4</th>\n",
       "      <td>49</td>\n",
       "      <td>9.25</td>\n",
       "      <td>Ethan</td>\n",
       "    </tr>\n",
       "    <tr>\n",
       "      <th>5</th>\n",
       "      <td>3</td>\n",
       "      <td>1.0</td>\n",
       "      <td>Vicky</td>\n",
       "    </tr>\n",
       "    <tr>\n",
       "      <th>6</th>\n",
       "      <td>53</td>\n",
       "      <td>11.5</td>\n",
       "      <td>Frederic</td>\n",
       "    </tr>\n",
       "    <tr>\n",
       "      <th>7</th>\n",
       "      <td>42</td>\n",
       "      <td>9.0</td>\n",
       "      <td>Jimmie</td>\n",
       "    </tr>\n",
       "    <tr>\n",
       "      <th>8</th>\n",
       "      <td>26</td>\n",
       "      <td>8.5</td>\n",
       "      <td>Rhonda</td>\n",
       "    </tr>\n",
       "    <tr>\n",
       "      <th>9</th>\n",
       "      <td>74</td>\n",
       "      <td>14.5</td>\n",
       "      <td>Giovanni</td>\n",
       "    </tr>\n",
       "    <tr>\n",
       "      <th>10</th>\n",
       "      <td>82</td>\n",
       "      <td>15.5</td>\n",
       "      <td>Francesca</td>\n",
       "    </tr>\n",
       "    <tr>\n",
       "      <th>11</th>\n",
       "      <td>62</td>\n",
       "      <td>13.75</td>\n",
       "      <td>Rajab</td>\n",
       "    </tr>\n",
       "    <tr>\n",
       "      <th>12</th>\n",
       "      <td>37</td>\n",
       "      <td>9.0</td>\n",
       "      <td>Naiyana</td>\n",
       "    </tr>\n",
       "    <tr>\n",
       "      <th>13</th>\n",
       "      <td>15</td>\n",
       "      <td>8.0</td>\n",
       "      <td>Kian</td>\n",
       "    </tr>\n",
       "    <tr>\n",
       "      <th>14</th>\n",
       "      <td>70</td>\n",
       "      <td>15.5</td>\n",
       "      <td>Jenny</td>\n",
       "    </tr>\n",
       "    <tr>\n",
       "      <th>15</th>\n",
       "      <td>27</td>\n",
       "      <td>8.0</td>\n",
       "      <td>Jakeem</td>\n",
       "    </tr>\n",
       "    <tr>\n",
       "      <th>16</th>\n",
       "      <td>36</td>\n",
       "      <td>9.0</td>\n",
       "      <td>Helena</td>\n",
       "    </tr>\n",
       "    <tr>\n",
       "      <th>17</th>\n",
       "      <td>35</td>\n",
       "      <td>6.0</td>\n",
       "      <td>Ismat</td>\n",
       "    </tr>\n",
       "    <tr>\n",
       "      <th>18</th>\n",
       "      <td>48</td>\n",
       "      <td>10.0</td>\n",
       "      <td>Anila</td>\n",
       "    </tr>\n",
       "    <tr>\n",
       "      <th>19</th>\n",
       "      <td>52</td>\n",
       "      <td>12.0</td>\n",
       "      <td>Skye</td>\n",
       "    </tr>\n",
       "    <tr>\n",
       "      <th>20</th>\n",
       "      <td>63</td>\n",
       "      <td>12.5</td>\n",
       "      <td>Daniel</td>\n",
       "    </tr>\n",
       "    <tr>\n",
       "      <th>21</th>\n",
       "      <td>64</td>\n",
       "      <td>12.0</td>\n",
       "      <td>Aisha</td>\n",
       "    </tr>\n",
       "  </tbody>\n",
       "</table>\n",
       "</div>"
      ],
      "text/plain": [
       "   grades study_hour       name\n",
       "0      50       10.0        Dan\n",
       "1      50       11.5      Joann\n",
       "2      47        9.0      Pedro\n",
       "3      97       16.0      Rosie\n",
       "4      49       9.25      Ethan\n",
       "5       3        1.0      Vicky\n",
       "6      53       11.5   Frederic\n",
       "7      42        9.0     Jimmie\n",
       "8      26        8.5     Rhonda\n",
       "9      74       14.5   Giovanni\n",
       "10     82       15.5  Francesca\n",
       "11     62      13.75      Rajab\n",
       "12     37        9.0    Naiyana\n",
       "13     15        8.0       Kian\n",
       "14     70       15.5      Jenny\n",
       "15     27        8.0     Jakeem\n",
       "16     36        9.0     Helena\n",
       "17     35        6.0      Ismat\n",
       "18     48       10.0      Anila\n",
       "19     52       12.0       Skye\n",
       "20     63       12.5     Daniel\n",
       "21     64       12.0      Aisha"
      ]
     },
     "execution_count": 16,
     "metadata": {},
     "output_type": "execute_result"
    }
   ],
   "source": [
    "cols = ['grades','study_hour','name']\n",
    "df_students.columns = cols\n",
    "df_students"
   ]
  },
  {
   "cell_type": "code",
   "execution_count": 17,
   "id": "09dd271a",
   "metadata": {},
   "outputs": [
    {
     "data": {
      "text/html": [
       "<div>\n",
       "<style scoped>\n",
       "    .dataframe tbody tr th:only-of-type {\n",
       "        vertical-align: middle;\n",
       "    }\n",
       "\n",
       "    .dataframe tbody tr th {\n",
       "        vertical-align: top;\n",
       "    }\n",
       "\n",
       "    .dataframe thead th {\n",
       "        text-align: right;\n",
       "    }\n",
       "</style>\n",
       "<table border=\"1\" class=\"dataframe\">\n",
       "  <thead>\n",
       "    <tr style=\"text-align: right;\">\n",
       "      <th></th>\n",
       "      <th>grades</th>\n",
       "      <th>study_hour</th>\n",
       "      <th>name</th>\n",
       "    </tr>\n",
       "  </thead>\n",
       "  <tbody>\n",
       "    <tr>\n",
       "      <th>0</th>\n",
       "      <td>50</td>\n",
       "      <td>10.0</td>\n",
       "      <td>Dan</td>\n",
       "    </tr>\n",
       "    <tr>\n",
       "      <th>1</th>\n",
       "      <td>50</td>\n",
       "      <td>11.5</td>\n",
       "      <td>Joann</td>\n",
       "    </tr>\n",
       "    <tr>\n",
       "      <th>2</th>\n",
       "      <td>47</td>\n",
       "      <td>9.0</td>\n",
       "      <td>Pedro</td>\n",
       "    </tr>\n",
       "    <tr>\n",
       "      <th>3</th>\n",
       "      <td>97</td>\n",
       "      <td>16.0</td>\n",
       "      <td>Rosie</td>\n",
       "    </tr>\n",
       "    <tr>\n",
       "      <th>4</th>\n",
       "      <td>49</td>\n",
       "      <td>9.25</td>\n",
       "      <td>Ethan</td>\n",
       "    </tr>\n",
       "    <tr>\n",
       "      <th>5</th>\n",
       "      <td>3</td>\n",
       "      <td>1.0</td>\n",
       "      <td>Vicky</td>\n",
       "    </tr>\n",
       "  </tbody>\n",
       "</table>\n",
       "</div>"
      ],
      "text/plain": [
       "  grades study_hour   name\n",
       "0     50       10.0    Dan\n",
       "1     50       11.5  Joann\n",
       "2     47        9.0  Pedro\n",
       "3     97       16.0  Rosie\n",
       "4     49       9.25  Ethan\n",
       "5      3        1.0  Vicky"
      ]
     },
     "execution_count": 17,
     "metadata": {},
     "output_type": "execute_result"
    }
   ],
   "source": [
    "df_students.loc[0:5]"
   ]
  },
  {
   "cell_type": "code",
   "execution_count": 18,
   "id": "8e59c6bb",
   "metadata": {},
   "outputs": [
    {
     "data": {
      "text/html": [
       "<div>\n",
       "<style scoped>\n",
       "    .dataframe tbody tr th:only-of-type {\n",
       "        vertical-align: middle;\n",
       "    }\n",
       "\n",
       "    .dataframe tbody tr th {\n",
       "        vertical-align: top;\n",
       "    }\n",
       "\n",
       "    .dataframe thead th {\n",
       "        text-align: right;\n",
       "    }\n",
       "</style>\n",
       "<table border=\"1\" class=\"dataframe\">\n",
       "  <thead>\n",
       "    <tr style=\"text-align: right;\">\n",
       "      <th></th>\n",
       "      <th>grades</th>\n",
       "      <th>study_hour</th>\n",
       "      <th>name</th>\n",
       "    </tr>\n",
       "  </thead>\n",
       "  <tbody>\n",
       "    <tr>\n",
       "      <th>0</th>\n",
       "      <td>50</td>\n",
       "      <td>10.0</td>\n",
       "      <td>Dan</td>\n",
       "    </tr>\n",
       "    <tr>\n",
       "      <th>1</th>\n",
       "      <td>50</td>\n",
       "      <td>11.5</td>\n",
       "      <td>Joann</td>\n",
       "    </tr>\n",
       "    <tr>\n",
       "      <th>2</th>\n",
       "      <td>47</td>\n",
       "      <td>9.0</td>\n",
       "      <td>Pedro</td>\n",
       "    </tr>\n",
       "    <tr>\n",
       "      <th>3</th>\n",
       "      <td>97</td>\n",
       "      <td>16.0</td>\n",
       "      <td>Rosie</td>\n",
       "    </tr>\n",
       "    <tr>\n",
       "      <th>4</th>\n",
       "      <td>49</td>\n",
       "      <td>9.25</td>\n",
       "      <td>Ethan</td>\n",
       "    </tr>\n",
       "  </tbody>\n",
       "</table>\n",
       "</div>"
      ],
      "text/plain": [
       "  grades study_hour   name\n",
       "0     50       10.0    Dan\n",
       "1     50       11.5  Joann\n",
       "2     47        9.0  Pedro\n",
       "3     97       16.0  Rosie\n",
       "4     49       9.25  Ethan"
      ]
     },
     "execution_count": 18,
     "metadata": {},
     "output_type": "execute_result"
    }
   ],
   "source": [
    "df_students.iloc[0:5]"
   ]
  },
  {
   "cell_type": "code",
   "execution_count": 19,
   "id": "d98526d1",
   "metadata": {},
   "outputs": [
    {
     "data": {
      "text/plain": [
       "study_hour    10.0\n",
       "name           Dan\n",
       "Name: 0, dtype: object"
      ]
     },
     "execution_count": 19,
     "metadata": {},
     "output_type": "execute_result"
    }
   ],
   "source": [
    "df_students.iloc[0,[1,2]]"
   ]
  },
  {
   "cell_type": "code",
   "execution_count": 20,
   "id": "1527c928",
   "metadata": {},
   "outputs": [
    {
     "data": {
      "text/plain": [
       "'50'"
      ]
     },
     "execution_count": 20,
     "metadata": {},
     "output_type": "execute_result"
    }
   ],
   "source": [
    "df_students.loc[0,'grades']"
   ]
  },
  {
   "cell_type": "code",
   "execution_count": 21,
   "id": "c60611b7",
   "metadata": {},
   "outputs": [
    {
     "data": {
      "text/html": [
       "<div>\n",
       "<style scoped>\n",
       "    .dataframe tbody tr th:only-of-type {\n",
       "        vertical-align: middle;\n",
       "    }\n",
       "\n",
       "    .dataframe tbody tr th {\n",
       "        vertical-align: top;\n",
       "    }\n",
       "\n",
       "    .dataframe thead th {\n",
       "        text-align: right;\n",
       "    }\n",
       "</style>\n",
       "<table border=\"1\" class=\"dataframe\">\n",
       "  <thead>\n",
       "    <tr style=\"text-align: right;\">\n",
       "      <th></th>\n",
       "      <th>grades</th>\n",
       "      <th>study_hour</th>\n",
       "      <th>name</th>\n",
       "    </tr>\n",
       "  </thead>\n",
       "  <tbody>\n",
       "    <tr>\n",
       "      <th>21</th>\n",
       "      <td>64</td>\n",
       "      <td>12.0</td>\n",
       "      <td>Aisha</td>\n",
       "    </tr>\n",
       "  </tbody>\n",
       "</table>\n",
       "</div>"
      ],
      "text/plain": [
       "   grades study_hour   name\n",
       "21     64       12.0  Aisha"
      ]
     },
     "execution_count": 21,
     "metadata": {},
     "output_type": "execute_result"
    }
   ],
   "source": [
    "#Different ways to filter a dataframe\n",
    "\n",
    "# df_students.loc[df_students['name']== 'Aisha']\n",
    "\n",
    "# df_students[df_students['name'] =='Aisha']\n",
    "\n",
    "# df_students.query('name == \"Aisha\"')\n",
    "\n",
    "df_students[df_students.name == 'Aisha']"
   ]
  },
  {
   "cell_type": "markdown",
   "id": "2b393c92",
   "metadata": {},
   "source": [
    "Handling missing Values"
   ]
  },
  {
   "cell_type": "code",
   "execution_count": 22,
   "id": "1785510f",
   "metadata": {},
   "outputs": [
    {
     "data": {
      "text/plain": [
       "grades        0\n",
       "study_hour    0\n",
       "name          0\n",
       "dtype: int64"
      ]
     },
     "execution_count": 22,
     "metadata": {},
     "output_type": "execute_result"
    }
   ],
   "source": [
    "#gets the sum of mikssing values\n",
    "df_students.isnull().sum()"
   ]
  },
  {
   "cell_type": "code",
   "execution_count": 23,
   "id": "196f9fc1",
   "metadata": {},
   "outputs": [
    {
     "data": {
      "text/html": [
       "<div>\n",
       "<style scoped>\n",
       "    .dataframe tbody tr th:only-of-type {\n",
       "        vertical-align: middle;\n",
       "    }\n",
       "\n",
       "    .dataframe tbody tr th {\n",
       "        vertical-align: top;\n",
       "    }\n",
       "\n",
       "    .dataframe thead th {\n",
       "        text-align: right;\n",
       "    }\n",
       "</style>\n",
       "<table border=\"1\" class=\"dataframe\">\n",
       "  <thead>\n",
       "    <tr style=\"text-align: right;\">\n",
       "      <th></th>\n",
       "      <th>grades</th>\n",
       "      <th>study_hour</th>\n",
       "      <th>name</th>\n",
       "    </tr>\n",
       "  </thead>\n",
       "  <tbody>\n",
       "  </tbody>\n",
       "</table>\n",
       "</div>"
      ],
      "text/plain": [
       "Empty DataFrame\n",
       "Columns: [grades, study_hour, name]\n",
       "Index: []"
      ]
     },
     "execution_count": 23,
     "metadata": {},
     "output_type": "execute_result"
    }
   ],
   "source": [
    "#filters the missing values from the dataframe\n",
    "df_students[df_students.isnull().any(axis = 1)]"
   ]
  },
  {
   "cell_type": "code",
   "execution_count": 24,
   "id": "f90b7d8a",
   "metadata": {},
   "outputs": [
    {
     "name": "stdout",
     "output_type": "stream",
     "text": [
      "<class 'pandas.core.frame.DataFrame'>\n",
      "RangeIndex: 22 entries, 0 to 21\n",
      "Data columns (total 3 columns):\n",
      " #   Column      Non-Null Count  Dtype \n",
      "---  ------      --------------  ----- \n",
      " 0   grades      22 non-null     object\n",
      " 1   study_hour  22 non-null     object\n",
      " 2   name        22 non-null     object\n",
      "dtypes: object(3)\n",
      "memory usage: 656.0+ bytes\n"
     ]
    }
   ],
   "source": [
    "df_students.info()"
   ]
  },
  {
   "cell_type": "code",
   "execution_count": 25,
   "id": "353d9e4f",
   "metadata": {},
   "outputs": [],
   "source": [
    "df_students.study_hour = pd.to_numeric(df_students.study_hour)"
   ]
  },
  {
   "cell_type": "code",
   "execution_count": 26,
   "id": "facd5da9",
   "metadata": {},
   "outputs": [],
   "source": [
    "df_students.grades = pd.to_numeric(df_students.grades)"
   ]
  },
  {
   "cell_type": "code",
   "execution_count": 27,
   "id": "ea8ebad8",
   "metadata": {},
   "outputs": [
    {
     "name": "stdout",
     "output_type": "stream",
     "text": [
      "<class 'pandas.core.frame.DataFrame'>\n",
      "RangeIndex: 22 entries, 0 to 21\n",
      "Data columns (total 3 columns):\n",
      " #   Column      Non-Null Count  Dtype  \n",
      "---  ------      --------------  -----  \n",
      " 0   grades      22 non-null     int64  \n",
      " 1   study_hour  22 non-null     float64\n",
      " 2   name        22 non-null     object \n",
      "dtypes: float64(1), int64(1), object(1)\n",
      "memory usage: 656.0+ bytes\n"
     ]
    }
   ],
   "source": [
    "df_students.info()"
   ]
  },
  {
   "cell_type": "markdown",
   "id": "8e03bd76",
   "metadata": {},
   "source": [
    "fill missing values by replacing with mean of the values"
   ]
  },
  {
   "cell_type": "code",
   "execution_count": 28,
   "id": "5fdf21bf",
   "metadata": {},
   "outputs": [],
   "source": [
    "df_students.study_hour = df_students.study_hour.fillna(df_students.study_hour.mean())"
   ]
  },
  {
   "cell_type": "markdown",
   "id": "a2f69e78",
   "metadata": {},
   "source": [
    "alternatively, you can drop the nulls to ensure the data you are working with is absolutely correct"
   ]
  },
  {
   "cell_type": "code",
   "execution_count": 29,
   "id": "da5914c4",
   "metadata": {},
   "outputs": [],
   "source": [
    "df_students = df_students.dropna(axis = 0, how = 'any')"
   ]
  },
  {
   "cell_type": "code",
   "execution_count": 30,
   "id": "de980ecc",
   "metadata": {},
   "outputs": [
    {
     "name": "stdout",
     "output_type": "stream",
     "text": [
      "Average study hour 10.52 and average grades 49.18\n"
     ]
    }
   ],
   "source": [
    "meanstudy = df_students.study_hour.mean()\n",
    "meangrade = df_students.grades.mean()\n",
    "\n",
    "print('Average study hour {:.2f} and average grades {:.2f}'.format(meanstudy, meangrade))"
   ]
  },
  {
   "cell_type": "markdown",
   "id": "891f7a76",
   "metadata": {},
   "source": [
    "Filter students who studied above the mean study hours"
   ]
  },
  {
   "cell_type": "code",
   "execution_count": 31,
   "id": "f48bae0a",
   "metadata": {},
   "outputs": [
    {
     "data": {
      "text/html": [
       "<div>\n",
       "<style scoped>\n",
       "    .dataframe tbody tr th:only-of-type {\n",
       "        vertical-align: middle;\n",
       "    }\n",
       "\n",
       "    .dataframe tbody tr th {\n",
       "        vertical-align: top;\n",
       "    }\n",
       "\n",
       "    .dataframe thead th {\n",
       "        text-align: right;\n",
       "    }\n",
       "</style>\n",
       "<table border=\"1\" class=\"dataframe\">\n",
       "  <thead>\n",
       "    <tr style=\"text-align: right;\">\n",
       "      <th></th>\n",
       "      <th>grades</th>\n",
       "      <th>study_hour</th>\n",
       "      <th>name</th>\n",
       "    </tr>\n",
       "  </thead>\n",
       "  <tbody>\n",
       "    <tr>\n",
       "      <th>1</th>\n",
       "      <td>50</td>\n",
       "      <td>11.50</td>\n",
       "      <td>Joann</td>\n",
       "    </tr>\n",
       "    <tr>\n",
       "      <th>3</th>\n",
       "      <td>97</td>\n",
       "      <td>16.00</td>\n",
       "      <td>Rosie</td>\n",
       "    </tr>\n",
       "    <tr>\n",
       "      <th>6</th>\n",
       "      <td>53</td>\n",
       "      <td>11.50</td>\n",
       "      <td>Frederic</td>\n",
       "    </tr>\n",
       "    <tr>\n",
       "      <th>9</th>\n",
       "      <td>74</td>\n",
       "      <td>14.50</td>\n",
       "      <td>Giovanni</td>\n",
       "    </tr>\n",
       "    <tr>\n",
       "      <th>10</th>\n",
       "      <td>82</td>\n",
       "      <td>15.50</td>\n",
       "      <td>Francesca</td>\n",
       "    </tr>\n",
       "    <tr>\n",
       "      <th>11</th>\n",
       "      <td>62</td>\n",
       "      <td>13.75</td>\n",
       "      <td>Rajab</td>\n",
       "    </tr>\n",
       "    <tr>\n",
       "      <th>14</th>\n",
       "      <td>70</td>\n",
       "      <td>15.50</td>\n",
       "      <td>Jenny</td>\n",
       "    </tr>\n",
       "    <tr>\n",
       "      <th>19</th>\n",
       "      <td>52</td>\n",
       "      <td>12.00</td>\n",
       "      <td>Skye</td>\n",
       "    </tr>\n",
       "    <tr>\n",
       "      <th>20</th>\n",
       "      <td>63</td>\n",
       "      <td>12.50</td>\n",
       "      <td>Daniel</td>\n",
       "    </tr>\n",
       "    <tr>\n",
       "      <th>21</th>\n",
       "      <td>64</td>\n",
       "      <td>12.00</td>\n",
       "      <td>Aisha</td>\n",
       "    </tr>\n",
       "  </tbody>\n",
       "</table>\n",
       "</div>"
      ],
      "text/plain": [
       "    grades  study_hour       name\n",
       "1       50       11.50      Joann\n",
       "3       97       16.00      Rosie\n",
       "6       53       11.50   Frederic\n",
       "9       74       14.50   Giovanni\n",
       "10      82       15.50  Francesca\n",
       "11      62       13.75      Rajab\n",
       "14      70       15.50      Jenny\n",
       "19      52       12.00       Skye\n",
       "20      63       12.50     Daniel\n",
       "21      64       12.00      Aisha"
      ]
     },
     "execution_count": 31,
     "metadata": {},
     "output_type": "execute_result"
    }
   ],
   "source": [
    "df_students[df_students.study_hour > meanstudy]"
   ]
  },
  {
   "cell_type": "markdown",
   "id": "d634e248",
   "metadata": {},
   "source": [
    "Get the mean grade for students who studied above the mean study hour\n"
   ]
  },
  {
   "cell_type": "code",
   "execution_count": 32,
   "id": "2e0466b3",
   "metadata": {},
   "outputs": [
    {
     "data": {
      "text/plain": [
       "66.7"
      ]
     },
     "execution_count": 32,
     "metadata": {},
     "output_type": "execute_result"
    }
   ],
   "source": [
    "df_students[df_students.study_hour > meanstudy].grades.mean()"
   ]
  },
  {
   "cell_type": "markdown",
   "id": "19152cf9",
   "metadata": {},
   "source": [
    "Lets assume the passing grade is 60, we will add another column indicating whether the student passed or not"
   ]
  },
  {
   "cell_type": "code",
   "execution_count": 33,
   "id": "de0c4d4e",
   "metadata": {},
   "outputs": [],
   "source": [
    "passes = pd.Series(df_students.grades >= 60)\n",
    "\n",
    "df_students  = pd.concat([df_students, passes.rename('pass')], axis = 1)\n"
   ]
  },
  {
   "cell_type": "code",
   "execution_count": 34,
   "id": "7fce73f0",
   "metadata": {},
   "outputs": [
    {
     "data": {
      "text/html": [
       "<div>\n",
       "<style scoped>\n",
       "    .dataframe tbody tr th:only-of-type {\n",
       "        vertical-align: middle;\n",
       "    }\n",
       "\n",
       "    .dataframe tbody tr th {\n",
       "        vertical-align: top;\n",
       "    }\n",
       "\n",
       "    .dataframe thead th {\n",
       "        text-align: right;\n",
       "    }\n",
       "</style>\n",
       "<table border=\"1\" class=\"dataframe\">\n",
       "  <thead>\n",
       "    <tr style=\"text-align: right;\">\n",
       "      <th></th>\n",
       "      <th>grades</th>\n",
       "      <th>study_hour</th>\n",
       "      <th>name</th>\n",
       "      <th>pass</th>\n",
       "    </tr>\n",
       "  </thead>\n",
       "  <tbody>\n",
       "    <tr>\n",
       "      <th>0</th>\n",
       "      <td>50</td>\n",
       "      <td>10.00</td>\n",
       "      <td>Dan</td>\n",
       "      <td>False</td>\n",
       "    </tr>\n",
       "    <tr>\n",
       "      <th>1</th>\n",
       "      <td>50</td>\n",
       "      <td>11.50</td>\n",
       "      <td>Joann</td>\n",
       "      <td>False</td>\n",
       "    </tr>\n",
       "    <tr>\n",
       "      <th>2</th>\n",
       "      <td>47</td>\n",
       "      <td>9.00</td>\n",
       "      <td>Pedro</td>\n",
       "      <td>False</td>\n",
       "    </tr>\n",
       "    <tr>\n",
       "      <th>3</th>\n",
       "      <td>97</td>\n",
       "      <td>16.00</td>\n",
       "      <td>Rosie</td>\n",
       "      <td>True</td>\n",
       "    </tr>\n",
       "    <tr>\n",
       "      <th>4</th>\n",
       "      <td>49</td>\n",
       "      <td>9.25</td>\n",
       "      <td>Ethan</td>\n",
       "      <td>False</td>\n",
       "    </tr>\n",
       "    <tr>\n",
       "      <th>5</th>\n",
       "      <td>3</td>\n",
       "      <td>1.00</td>\n",
       "      <td>Vicky</td>\n",
       "      <td>False</td>\n",
       "    </tr>\n",
       "    <tr>\n",
       "      <th>6</th>\n",
       "      <td>53</td>\n",
       "      <td>11.50</td>\n",
       "      <td>Frederic</td>\n",
       "      <td>False</td>\n",
       "    </tr>\n",
       "    <tr>\n",
       "      <th>7</th>\n",
       "      <td>42</td>\n",
       "      <td>9.00</td>\n",
       "      <td>Jimmie</td>\n",
       "      <td>False</td>\n",
       "    </tr>\n",
       "    <tr>\n",
       "      <th>8</th>\n",
       "      <td>26</td>\n",
       "      <td>8.50</td>\n",
       "      <td>Rhonda</td>\n",
       "      <td>False</td>\n",
       "    </tr>\n",
       "    <tr>\n",
       "      <th>9</th>\n",
       "      <td>74</td>\n",
       "      <td>14.50</td>\n",
       "      <td>Giovanni</td>\n",
       "      <td>True</td>\n",
       "    </tr>\n",
       "    <tr>\n",
       "      <th>10</th>\n",
       "      <td>82</td>\n",
       "      <td>15.50</td>\n",
       "      <td>Francesca</td>\n",
       "      <td>True</td>\n",
       "    </tr>\n",
       "    <tr>\n",
       "      <th>11</th>\n",
       "      <td>62</td>\n",
       "      <td>13.75</td>\n",
       "      <td>Rajab</td>\n",
       "      <td>True</td>\n",
       "    </tr>\n",
       "    <tr>\n",
       "      <th>12</th>\n",
       "      <td>37</td>\n",
       "      <td>9.00</td>\n",
       "      <td>Naiyana</td>\n",
       "      <td>False</td>\n",
       "    </tr>\n",
       "    <tr>\n",
       "      <th>13</th>\n",
       "      <td>15</td>\n",
       "      <td>8.00</td>\n",
       "      <td>Kian</td>\n",
       "      <td>False</td>\n",
       "    </tr>\n",
       "    <tr>\n",
       "      <th>14</th>\n",
       "      <td>70</td>\n",
       "      <td>15.50</td>\n",
       "      <td>Jenny</td>\n",
       "      <td>True</td>\n",
       "    </tr>\n",
       "    <tr>\n",
       "      <th>15</th>\n",
       "      <td>27</td>\n",
       "      <td>8.00</td>\n",
       "      <td>Jakeem</td>\n",
       "      <td>False</td>\n",
       "    </tr>\n",
       "    <tr>\n",
       "      <th>16</th>\n",
       "      <td>36</td>\n",
       "      <td>9.00</td>\n",
       "      <td>Helena</td>\n",
       "      <td>False</td>\n",
       "    </tr>\n",
       "    <tr>\n",
       "      <th>17</th>\n",
       "      <td>35</td>\n",
       "      <td>6.00</td>\n",
       "      <td>Ismat</td>\n",
       "      <td>False</td>\n",
       "    </tr>\n",
       "    <tr>\n",
       "      <th>18</th>\n",
       "      <td>48</td>\n",
       "      <td>10.00</td>\n",
       "      <td>Anila</td>\n",
       "      <td>False</td>\n",
       "    </tr>\n",
       "    <tr>\n",
       "      <th>19</th>\n",
       "      <td>52</td>\n",
       "      <td>12.00</td>\n",
       "      <td>Skye</td>\n",
       "      <td>False</td>\n",
       "    </tr>\n",
       "    <tr>\n",
       "      <th>20</th>\n",
       "      <td>63</td>\n",
       "      <td>12.50</td>\n",
       "      <td>Daniel</td>\n",
       "      <td>True</td>\n",
       "    </tr>\n",
       "    <tr>\n",
       "      <th>21</th>\n",
       "      <td>64</td>\n",
       "      <td>12.00</td>\n",
       "      <td>Aisha</td>\n",
       "      <td>True</td>\n",
       "    </tr>\n",
       "  </tbody>\n",
       "</table>\n",
       "</div>"
      ],
      "text/plain": [
       "    grades  study_hour       name   pass\n",
       "0       50       10.00        Dan  False\n",
       "1       50       11.50      Joann  False\n",
       "2       47        9.00      Pedro  False\n",
       "3       97       16.00      Rosie   True\n",
       "4       49        9.25      Ethan  False\n",
       "5        3        1.00      Vicky  False\n",
       "6       53       11.50   Frederic  False\n",
       "7       42        9.00     Jimmie  False\n",
       "8       26        8.50     Rhonda  False\n",
       "9       74       14.50   Giovanni   True\n",
       "10      82       15.50  Francesca   True\n",
       "11      62       13.75      Rajab   True\n",
       "12      37        9.00    Naiyana  False\n",
       "13      15        8.00       Kian  False\n",
       "14      70       15.50      Jenny   True\n",
       "15      27        8.00     Jakeem  False\n",
       "16      36        9.00     Helena  False\n",
       "17      35        6.00      Ismat  False\n",
       "18      48       10.00      Anila  False\n",
       "19      52       12.00       Skye  False\n",
       "20      63       12.50     Daniel   True\n",
       "21      64       12.00      Aisha   True"
      ]
     },
     "execution_count": 34,
     "metadata": {},
     "output_type": "execute_result"
    }
   ],
   "source": [
    "df_students"
   ]
  },
  {
   "cell_type": "markdown",
   "id": "6e7c1db1",
   "metadata": {},
   "source": [
    "Lets get the count of students based on whether the passed or not"
   ]
  },
  {
   "cell_type": "code",
   "execution_count": 35,
   "id": "9400d64e",
   "metadata": {},
   "outputs": [
    {
     "data": {
      "text/plain": [
       "pass\n",
       "False    15\n",
       "True      7\n",
       "Name: name, dtype: int64"
      ]
     },
     "execution_count": 35,
     "metadata": {},
     "output_type": "execute_result"
    }
   ],
   "source": [
    "df_students.groupby('pass').name.count()"
   ]
  },
  {
   "cell_type": "markdown",
   "id": "3f68ec4a",
   "metadata": {},
   "source": [
    "Lets get the mean study hour and grade for both who passed or failed"
   ]
  },
  {
   "cell_type": "code",
   "execution_count": 36,
   "id": "9cc6bb6a",
   "metadata": {
    "scrolled": true
   },
   "outputs": [
    {
     "name": "stderr",
     "output_type": "stream",
     "text": [
      "C:\\Users\\User\\AppData\\Local\\Temp\\ipykernel_7724\\1975986601.py:1: FutureWarning: Indexing with multiple keys (implicitly converted to a tuple of keys) will be deprecated, use a list instead.\n",
      "  df_students.groupby('pass')['study_hour', 'grades'].mean()\n"
     ]
    },
    {
     "data": {
      "text/html": [
       "<div>\n",
       "<style scoped>\n",
       "    .dataframe tbody tr th:only-of-type {\n",
       "        vertical-align: middle;\n",
       "    }\n",
       "\n",
       "    .dataframe tbody tr th {\n",
       "        vertical-align: top;\n",
       "    }\n",
       "\n",
       "    .dataframe thead th {\n",
       "        text-align: right;\n",
       "    }\n",
       "</style>\n",
       "<table border=\"1\" class=\"dataframe\">\n",
       "  <thead>\n",
       "    <tr style=\"text-align: right;\">\n",
       "      <th></th>\n",
       "      <th>study_hour</th>\n",
       "      <th>grades</th>\n",
       "    </tr>\n",
       "    <tr>\n",
       "      <th>pass</th>\n",
       "      <th></th>\n",
       "      <th></th>\n",
       "    </tr>\n",
       "  </thead>\n",
       "  <tbody>\n",
       "    <tr>\n",
       "      <th>False</th>\n",
       "      <td>8.783333</td>\n",
       "      <td>38.000000</td>\n",
       "    </tr>\n",
       "    <tr>\n",
       "      <th>True</th>\n",
       "      <td>14.250000</td>\n",
       "      <td>73.142857</td>\n",
       "    </tr>\n",
       "  </tbody>\n",
       "</table>\n",
       "</div>"
      ],
      "text/plain": [
       "       study_hour     grades\n",
       "pass                        \n",
       "False    8.783333  38.000000\n",
       "True    14.250000  73.142857"
      ]
     },
     "execution_count": 36,
     "metadata": {},
     "output_type": "execute_result"
    }
   ],
   "source": [
    "df_students.groupby('pass')['study_hour', 'grades'].mean()"
   ]
  },
  {
   "cell_type": "code",
   "execution_count": 37,
   "id": "4fb07ed9",
   "metadata": {},
   "outputs": [
    {
     "data": {
      "text/html": [
       "<div>\n",
       "<style scoped>\n",
       "    .dataframe tbody tr th:only-of-type {\n",
       "        vertical-align: middle;\n",
       "    }\n",
       "\n",
       "    .dataframe tbody tr th {\n",
       "        vertical-align: top;\n",
       "    }\n",
       "\n",
       "    .dataframe thead th {\n",
       "        text-align: right;\n",
       "    }\n",
       "</style>\n",
       "<table border=\"1\" class=\"dataframe\">\n",
       "  <thead>\n",
       "    <tr style=\"text-align: right;\">\n",
       "      <th></th>\n",
       "      <th>grades</th>\n",
       "      <th>study_hour</th>\n",
       "      <th>name</th>\n",
       "      <th>pass</th>\n",
       "    </tr>\n",
       "  </thead>\n",
       "  <tbody>\n",
       "    <tr>\n",
       "      <th>3</th>\n",
       "      <td>97</td>\n",
       "      <td>16.00</td>\n",
       "      <td>Rosie</td>\n",
       "      <td>True</td>\n",
       "    </tr>\n",
       "    <tr>\n",
       "      <th>10</th>\n",
       "      <td>82</td>\n",
       "      <td>15.50</td>\n",
       "      <td>Francesca</td>\n",
       "      <td>True</td>\n",
       "    </tr>\n",
       "    <tr>\n",
       "      <th>9</th>\n",
       "      <td>74</td>\n",
       "      <td>14.50</td>\n",
       "      <td>Giovanni</td>\n",
       "      <td>True</td>\n",
       "    </tr>\n",
       "    <tr>\n",
       "      <th>14</th>\n",
       "      <td>70</td>\n",
       "      <td>15.50</td>\n",
       "      <td>Jenny</td>\n",
       "      <td>True</td>\n",
       "    </tr>\n",
       "    <tr>\n",
       "      <th>21</th>\n",
       "      <td>64</td>\n",
       "      <td>12.00</td>\n",
       "      <td>Aisha</td>\n",
       "      <td>True</td>\n",
       "    </tr>\n",
       "    <tr>\n",
       "      <th>20</th>\n",
       "      <td>63</td>\n",
       "      <td>12.50</td>\n",
       "      <td>Daniel</td>\n",
       "      <td>True</td>\n",
       "    </tr>\n",
       "    <tr>\n",
       "      <th>11</th>\n",
       "      <td>62</td>\n",
       "      <td>13.75</td>\n",
       "      <td>Rajab</td>\n",
       "      <td>True</td>\n",
       "    </tr>\n",
       "    <tr>\n",
       "      <th>6</th>\n",
       "      <td>53</td>\n",
       "      <td>11.50</td>\n",
       "      <td>Frederic</td>\n",
       "      <td>False</td>\n",
       "    </tr>\n",
       "    <tr>\n",
       "      <th>19</th>\n",
       "      <td>52</td>\n",
       "      <td>12.00</td>\n",
       "      <td>Skye</td>\n",
       "      <td>False</td>\n",
       "    </tr>\n",
       "    <tr>\n",
       "      <th>1</th>\n",
       "      <td>50</td>\n",
       "      <td>11.50</td>\n",
       "      <td>Joann</td>\n",
       "      <td>False</td>\n",
       "    </tr>\n",
       "    <tr>\n",
       "      <th>0</th>\n",
       "      <td>50</td>\n",
       "      <td>10.00</td>\n",
       "      <td>Dan</td>\n",
       "      <td>False</td>\n",
       "    </tr>\n",
       "    <tr>\n",
       "      <th>4</th>\n",
       "      <td>49</td>\n",
       "      <td>9.25</td>\n",
       "      <td>Ethan</td>\n",
       "      <td>False</td>\n",
       "    </tr>\n",
       "    <tr>\n",
       "      <th>18</th>\n",
       "      <td>48</td>\n",
       "      <td>10.00</td>\n",
       "      <td>Anila</td>\n",
       "      <td>False</td>\n",
       "    </tr>\n",
       "    <tr>\n",
       "      <th>2</th>\n",
       "      <td>47</td>\n",
       "      <td>9.00</td>\n",
       "      <td>Pedro</td>\n",
       "      <td>False</td>\n",
       "    </tr>\n",
       "    <tr>\n",
       "      <th>7</th>\n",
       "      <td>42</td>\n",
       "      <td>9.00</td>\n",
       "      <td>Jimmie</td>\n",
       "      <td>False</td>\n",
       "    </tr>\n",
       "    <tr>\n",
       "      <th>12</th>\n",
       "      <td>37</td>\n",
       "      <td>9.00</td>\n",
       "      <td>Naiyana</td>\n",
       "      <td>False</td>\n",
       "    </tr>\n",
       "    <tr>\n",
       "      <th>16</th>\n",
       "      <td>36</td>\n",
       "      <td>9.00</td>\n",
       "      <td>Helena</td>\n",
       "      <td>False</td>\n",
       "    </tr>\n",
       "    <tr>\n",
       "      <th>17</th>\n",
       "      <td>35</td>\n",
       "      <td>6.00</td>\n",
       "      <td>Ismat</td>\n",
       "      <td>False</td>\n",
       "    </tr>\n",
       "    <tr>\n",
       "      <th>15</th>\n",
       "      <td>27</td>\n",
       "      <td>8.00</td>\n",
       "      <td>Jakeem</td>\n",
       "      <td>False</td>\n",
       "    </tr>\n",
       "    <tr>\n",
       "      <th>8</th>\n",
       "      <td>26</td>\n",
       "      <td>8.50</td>\n",
       "      <td>Rhonda</td>\n",
       "      <td>False</td>\n",
       "    </tr>\n",
       "    <tr>\n",
       "      <th>13</th>\n",
       "      <td>15</td>\n",
       "      <td>8.00</td>\n",
       "      <td>Kian</td>\n",
       "      <td>False</td>\n",
       "    </tr>\n",
       "    <tr>\n",
       "      <th>5</th>\n",
       "      <td>3</td>\n",
       "      <td>1.00</td>\n",
       "      <td>Vicky</td>\n",
       "      <td>False</td>\n",
       "    </tr>\n",
       "  </tbody>\n",
       "</table>\n",
       "</div>"
      ],
      "text/plain": [
       "    grades  study_hour       name   pass\n",
       "3       97       16.00      Rosie   True\n",
       "10      82       15.50  Francesca   True\n",
       "9       74       14.50   Giovanni   True\n",
       "14      70       15.50      Jenny   True\n",
       "21      64       12.00      Aisha   True\n",
       "20      63       12.50     Daniel   True\n",
       "11      62       13.75      Rajab   True\n",
       "6       53       11.50   Frederic  False\n",
       "19      52       12.00       Skye  False\n",
       "1       50       11.50      Joann  False\n",
       "0       50       10.00        Dan  False\n",
       "4       49        9.25      Ethan  False\n",
       "18      48       10.00      Anila  False\n",
       "2       47        9.00      Pedro  False\n",
       "7       42        9.00     Jimmie  False\n",
       "12      37        9.00    Naiyana  False\n",
       "16      36        9.00     Helena  False\n",
       "17      35        6.00      Ismat  False\n",
       "15      27        8.00     Jakeem  False\n",
       "8       26        8.50     Rhonda  False\n",
       "13      15        8.00       Kian  False\n",
       "5        3        1.00      Vicky  False"
      ]
     },
     "execution_count": 37,
     "metadata": {},
     "output_type": "execute_result"
    }
   ],
   "source": [
    "#Sort values using grades from the greatest the smallest\n",
    "\n",
    "df_students = df_students.sort_values('grades', ascending = False)\n",
    "\n",
    "df_students"
   ]
  },
  {
   "cell_type": "markdown",
   "id": "3cee76e2",
   "metadata": {},
   "source": [
    "### Visualize the data"
   ]
  },
  {
   "cell_type": "markdown",
   "id": "732440d2",
   "metadata": {},
   "source": [
    "We visualize the name vs grade"
   ]
  },
  {
   "cell_type": "code",
   "execution_count": 38,
   "id": "07cd33ad",
   "metadata": {},
   "outputs": [
    {
     "data": {
      "image/png": "[encoded data removed]",
      "text/plain": [
       "<Figure size 720x432 with 1 Axes>"
      ]
     },
     "metadata": {
      "needs_background": "light"
     },
     "output_type": "display_data"
    }
   ],
   "source": [
    "#define the chart size\n",
    "plt.figure(figsize = (10,6))\n",
    "\n",
    "plt.bar(df_students.name, height = df_students.grades, color = 'orange')\n",
    "\n",
    "plt.title('Student Grades')\n",
    "plt.grid(color = '#95a5a6', linestyle = '--', linewidth = 2, axis = 'y', alpha = 0.7)\n",
    "\n",
    "#rotate the x labels\n",
    "plt.xticks(rotation = 30)\n",
    "\n",
    "#display the plot\n",
    "plt.show()"
   ]
  },
  {
   "cell_type": "markdown",
   "id": "3f8a30e1",
   "metadata": {},
   "source": [
    "### Create mutiple subplots"
   ]
  },
  {
   "cell_type": "code",
   "execution_count": 39,
   "id": "67ea91a2",
   "metadata": {},
   "outputs": [
    {
     "name": "stderr",
     "output_type": "stream",
     "text": [
      "C:\\Users\\User\\AppData\\Local\\Temp\\ipykernel_7724\\469200481.py:9: UserWarning: FixedFormatter should only be used together with FixedLocator\n",
      "  ax[0].set_xticklabels(df_students.name, rotation = 90)\n",
      "C:\\Users\\User\\AppData\\Local\\Temp\\ipykernel_7724\\469200481.py:21: UserWarning: Matplotlib is currently using module://matplotlib_inline.backend_inline, which is a non-GUI backend, so cannot show the figure.\n",
      "  fig.show()\n"
     ]
    },
    {
     "data": {
      "image/png": "[encoded data removed]",
      "text/plain": [
       "<Figure size 1008x432 with 2 Axes>"
      ]
     },
     "metadata": {
      "needs_background": "light"
     },
     "output_type": "display_data"
    }
   ],
   "source": [
    "#create a figure for 2 subplots 1 row, 2 columns\n",
    "fig, ax = plt.subplots(1,2, figsize = (14,6))\n",
    "\n",
    "#first plot, a bar chart of name vs grade\n",
    "ax[0].bar(df_students.name, height = df_students.grades, color = 'orange')\n",
    "ax[0].set_title('Student Grades')\n",
    "\n",
    "#rotate the x labels\n",
    "ax[0].set_xticklabels(df_students.name, rotation = 90)\n",
    "\n",
    "#second plot, a pie chart of count students who passed or failed\n",
    "pass_count = df_students['pass'].value_counts()\n",
    "ax[1].pie(pass_count, labels = pass_count)\n",
    "ax[1].set_title('Passing Grades')\n",
    "ax[1].legend(pass_count.keys().tolist())\n",
    "\n",
    "#add a ttile for the figure\n",
    "fig.suptitle('Students Grades')\n",
    "\n",
    "#display the figure\n",
    "fig.show()"
   ]
  },
  {
   "cell_type": "markdown",
   "id": "ec849ec7",
   "metadata": {},
   "source": [
    "## Getting Started with Statistical analysis"
   ]
  },
  {
   "cell_type": "code",
   "execution_count": 40,
   "id": "4d5cd18d",
   "metadata": {},
   "outputs": [
    {
     "data": {
      "image/png": "[encoded data removed]",
      "text/plain": [
       "<Figure size 720x432 with 1 Axes>"
      ]
     },
     "metadata": {
      "needs_background": "light"
     },
     "output_type": "display_data"
    }
   ],
   "source": [
    "#Plot the distributionn of grades \n",
    "\n",
    "#create a var and assign grades to it\n",
    "var_grade = df_students.grades\n",
    "\n",
    "#create a figure\n",
    "plt.figure(figsize = (10,6))\n",
    "\n",
    "plt.hist(var_grade)\n",
    "\n",
    "plt.title('Grade Distribution')\n",
    "plt.xlabel('Value')\n",
    "plt.ylabel('Frequency')\n",
    "\n",
    "plt.show()"
   ]
  },
  {
   "cell_type": "markdown",
   "id": "745c90b6",
   "metadata": {},
   "source": [
    "#### Determine the measure of sentral tendency, \n",
    "> Three ways to determine this: Mean, Median, Mode"
   ]
  },
  {
   "cell_type": "code",
   "execution_count": 41,
   "id": "12b6d1fa",
   "metadata": {
    "scrolled": true
   },
   "outputs": [
    {
     "name": "stdout",
     "output_type": "stream",
     "text": [
      "Minimum:3.00\n",
      "Mean:49.18\n",
      "Median:49.50\n",
      "Mode:50.00\n",
      "Maximum:97.00\n",
      "\n"
     ]
    },
    {
     "data": {
      "image/png": "[encoded data removed]",
      "text/plain": [
       "<Figure size 720x432 with 2 Axes>"
      ]
     },
     "metadata": {
      "needs_background": "light"
     },
     "output_type": "display_data"
    }
   ],
   "source": [
    "min_val = var_grade.min()\n",
    "max_val =  var_grade.max()\n",
    "mean_val = var_grade.mean()\n",
    "med_val = var_grade.median()\n",
    "mod_val = var_grade.mode()[0]\n",
    "\n",
    "print('Minimum:{:.2f}\\nMean:{:.2f}\\nMedian:{:.2f}\\nMode:{:.2f}\\nMaximum:{:.2f}\\n'.format(min_val,\n",
    "                                                                                        mean_val,\n",
    "                                                                                        med_val,\n",
    "                                                                                        mod_val,\n",
    "                                                                                        max_val))\n",
    "fig, ax = plt.subplots(1,2,figsize = (10,6))\n",
    "\n",
    "\n",
    "#plot a hist of grades\n",
    "ax[0].hist(var_grade)\n",
    "ax[0].set_xlabel('value')\n",
    "\n",
    "#add the lines for measuring the central tenedency of the data\n",
    "ax[0].axvline(x = min_val, color = 'gray', linestyle = '--', linewidth = 2)\n",
    "ax[0].axvline(x=mean_val, color = 'cyan', linestyle='dashed', linewidth = 2)\n",
    "ax[0].axvline(x=med_val, color = 'red', linestyle='dashed', linewidth = 2)\n",
    "ax[0].axvline(x=mod_val, color = 'yellow', linestyle='dashed', linewidth = 2)\n",
    "ax[0].axvline(x=max_val, color = 'gray', linestyle='dashed', linewidth = 2)\n",
    "\n",
    "#plot a boxplot\n",
    "ax[1].boxplot(var_grade, vert= False)\n",
    "ax[1].set_xlabel('value')\n",
    "\n",
    "fig.suptitle('Grades Distribution')\n",
    "\n",
    "plt.show()\n"
   ]
  },
  {
   "cell_type": "markdown",
   "id": "c1e2814d",
   "metadata": {},
   "source": [
    "All of the measurements of central tendency are right in the middle of the data distribution, which is symmetric with values becoming progressively lower in both directions from the middle."
   ]
  },
  {
   "cell_type": "markdown",
   "id": "7777d45e",
   "metadata": {},
   "source": [
    "#### Probability density function,estimates the distribution of grades for the full population."
   ]
  },
  {
   "cell_type": "code",
   "execution_count": 42,
   "id": "ae981d2b",
   "metadata": {},
   "outputs": [
    {
     "data": {
      "image/png": "[encoded data removed]",
      "text/plain": [
       "<Figure size 720x432 with 1 Axes>"
      ]
     },
     "metadata": {
      "needs_background": "light"
     },
     "output_type": "display_data"
    }
   ],
   "source": [
    "#using a function plot the distribution density for grades\n",
    "def show_density(var_data):\n",
    "    import matplotlib.pyplot as plt\n",
    "    \n",
    "    plt.figure(figsize = (10,6))\n",
    "    \n",
    "    var_data.plot.density()\n",
    "    \n",
    "    plt.title('Data Density')\n",
    "    \n",
    "    plt.axvline(x=var_data.mean(), color = 'cyan', linestyle='dashed', linewidth = 2)\n",
    "    plt.axvline(x=var_data.median(), color = 'red', linestyle='dashed', linewidth = 2)\n",
    "    plt.axvline(x=var_data.mode()[0], color = 'yellow', linestyle='dashed', linewidth = 2)\n",
    "    \n",
    "    plt.show()\n",
    "    \n",
    "col = df_students['grades']\n",
    "show_density(col)"
   ]
  },
  {
   "cell_type": "markdown",
   "id": "9e14b430",
   "metadata": {},
   "source": [
    "Lets investigate the distribution of study hours"
   ]
  },
  {
   "cell_type": "code",
   "execution_count": 43,
   "id": "6de72770",
   "metadata": {},
   "outputs": [
    {
     "data": {
      "image/png": "[encoded data removed]",
      "text/plain": [
       "<Figure size 720x432 with 1 Axes>"
      ]
     },
     "metadata": {
      "needs_background": "light"
     },
     "output_type": "display_data"
    }
   ],
   "source": [
    "col = df_students['study_hour']\n",
    "\n",
    "show_density(col)"
   ]
  },
  {
   "cell_type": "code",
   "execution_count": 44,
   "id": "94db6073",
   "metadata": {},
   "outputs": [
    {
     "name": "stdout",
     "output_type": "stream",
     "text": [
      "Minimum:1.00\n",
      "Mean:10.52\n",
      "Median:10.00\n",
      "Mode:9.00\n",
      "Maximum:16.00\n",
      "\n"
     ]
    },
    {
     "data": {
      "image/png": "[encoded data removed]",
      "text/plain": [
       "<Figure size 720x432 with 2 Axes>"
      ]
     },
     "metadata": {
      "needs_background": "light"
     },
     "output_type": "display_data"
    }
   ],
   "source": [
    "def show_distribution(var_data):\n",
    "    min_val = var_data.min()\n",
    "    max_val =  var_data.max()\n",
    "    mean_val = var_data.mean()\n",
    "    med_val = var_data.median()\n",
    "    mod_val = var_data.mode()[0]\n",
    "\n",
    "    print('Minimum:{:.2f}\\nMean:{:.2f}\\nMedian:{:.2f}\\nMode:{:.2f}\\nMaximum:{:.2f}\\n'.format(min_val,\n",
    "                                                                                            mean_val,\n",
    "                                                                                            med_val,\n",
    "                                                                                            mod_val,\n",
    "                                                                                            max_val))\n",
    "    fig, ax = plt.subplots(1,2,figsize = (10,6))\n",
    "\n",
    "\n",
    "    #plot a hist of grades\n",
    "    ax[0].hist(var_data)\n",
    "    ax[0].set_xlabel('value')\n",
    "\n",
    "    #add the lines for measuring the central tenedency of the data\n",
    "    ax[0].axvline(x = min_val, color = 'gray', linestyle = '--', linewidth = 2)\n",
    "    ax[0].axvline(x=mean_val, color = 'cyan', linestyle='dashed', linewidth = 2)\n",
    "    ax[0].axvline(x=med_val, color = 'red', linestyle='dashed', linewidth = 2)\n",
    "    ax[0].axvline(x=mod_val, color = 'yellow', linestyle='dashed', linewidth = 2)\n",
    "    ax[0].axvline(x=max_val, color = 'gray', linestyle='dashed', linewidth = 2)\n",
    "\n",
    "    #plot a boxplot\n",
    "    ax[1].boxplot(var_data, vert= False)\n",
    "    ax[1].set_xlabel('value')\n",
    "\n",
    "    fig.suptitle('Grades Distribution')\n",
    "\n",
    "    plt.show()\n",
    "    \n",
    "show_distribution(col)"
   ]
  },
  {
   "cell_type": "markdown",
   "id": "163da729",
   "metadata": {},
   "source": [
    "From the above we can see the dataset has an outlier of study hour marked as 0, we fliter out any value before 1 and plot the distribution it."
   ]
  },
  {
   "cell_type": "code",
   "execution_count": 45,
   "id": "aa11e47a",
   "metadata": {},
   "outputs": [
    {
     "name": "stdout",
     "output_type": "stream",
     "text": [
      "Minimum:1.00\n",
      "Mean:10.52\n",
      "Median:10.00\n",
      "Mode:9.00\n",
      "Maximum:16.00\n",
      "\n"
     ]
    },
    {
     "data": {
      "image/png": "[encoded data removed]",
      "text/plain": [
       "<Figure size 720x432 with 2 Axes>"
      ]
     },
     "metadata": {
      "needs_background": "light"
     },
     "output_type": "display_data"
    }
   ],
   "source": [
    "col = df_students[df_students['study_hour'] >= 1]['study_hour']\n",
    "\n",
    "show_distribution(col)"
   ]
  },
  {
   "cell_type": "markdown",
   "id": "36a3043c",
   "metadata": {},
   "source": [
    "Note value 1 could also be an outlier only that out sample size is quite small and it will be difficult to actually consider 1 as an outlier but \n",
    "> we could use pandas quantile funtion to disregard any observtaion below 0.01 percentile "
   ]
  },
  {
   "cell_type": "code",
   "execution_count": 46,
   "id": "a8c8be95",
   "metadata": {},
   "outputs": [
    {
     "name": "stdout",
     "output_type": "stream",
     "text": [
      "Minimum:6.00\n",
      "Mean:10.98\n",
      "Median:10.00\n",
      "Mode:9.00\n",
      "Maximum:16.00\n",
      "\n"
     ]
    },
    {
     "data": {
      "image/png": "[encoded data removed]",
      "text/plain": [
       "<Figure size 720x432 with 2 Axes>"
      ]
     },
     "metadata": {
      "needs_background": "light"
     },
     "output_type": "display_data"
    }
   ],
   "source": [
    "q01 = df_students.study_hour.quantile(0.01)\n",
    "\n",
    "col = df_students[df_students.study_hour >q01]['study_hour']\n",
    "\n",
    "show_distribution(col)"
   ]
  },
  {
   "cell_type": "code",
   "execution_count": 47,
   "id": "5378476d",
   "metadata": {},
   "outputs": [
    {
     "data": {
      "image/png": "[encoded data removed]",
      "text/plain": [
       "<Figure size 720x432 with 1 Axes>"
      ]
     },
     "metadata": {
      "needs_background": "light"
     },
     "output_type": "display_data"
    }
   ],
   "source": [
    "show_density(col)"
   ]
  },
  {
   "cell_type": "markdown",
   "id": "dc47d61e",
   "metadata": {},
   "source": [
    "This kind of distribution is called right skewed. The mass of the data is on the left side of the distribution, creating a long tail to the right because of the values at the extreme high end; which pull the mean to the right."
   ]
  },
  {
   "cell_type": "markdown",
   "id": "0603aad8",
   "metadata": {},
   "source": [
    "### Measures of variance"
   ]
  },
  {
   "cell_type": "markdown",
   "id": "d7b1007c",
   "metadata": {},
   "source": [
    "Typical statistics that measure variability in the data include:\n",
    "\n",
    "> **Range:** The difference between the maximum and minimum. There's no built-in function for this, but it's easy to calculate using the min and max functions.\n",
    "\n",
    "> **Variance:** The average of the squared difference from the mean. You can use the built-in var function to find this.\n",
    "\n",
    "> **Standard Deviation:** The square root of the variance. You can use the built-in std function to find this."
   ]
  },
  {
   "cell_type": "code",
   "execution_count": 48,
   "id": "0753d76c",
   "metadata": {},
   "outputs": [
    {
     "data": {
      "text/plain": [
       "Index(['grades', 'study_hour', 'name', 'pass'], dtype='object')"
      ]
     },
     "execution_count": 48,
     "metadata": {},
     "output_type": "execute_result"
    }
   ],
   "source": [
    "df_students.columns"
   ]
  },
  {
   "cell_type": "code",
   "execution_count": 49,
   "id": "2c253aa6",
   "metadata": {},
   "outputs": [
    {
     "name": "stdout",
     "output_type": "stream",
     "text": [
      "\n",
      "grades:\n",
      " - Range: 94.00\n",
      " - Variance: 472.54\n",
      " - Std.Dev: 21.74\n",
      "\n",
      "study_hour:\n",
      " - Range: 15.00\n",
      " - Variance: 12.16\n",
      " - Std.Dev: 3.49\n"
     ]
    }
   ],
   "source": [
    "for col_name in ['grades','study_hour']:\n",
    "    col = df_students[col_name]\n",
    "    rng = col.max() - col.min()\n",
    "    var = col.var()\n",
    "    std  = col.std()\n",
    "    \n",
    "    print('\\n{}:\\n - Range: {:.2f}\\n - Variance: {:.2f}\\n - Std.Dev: {:.2f}'.format(col_name, rng, var, std))"
   ]
  },
  {
   "cell_type": "markdown",
   "id": "be0306d4",
   "metadata": {},
   "source": [
    "Standard Devaition provides measure of variance in the data on the same scale as the data itself (so grade points for the Grade distribution and hours for the StudyHours distribution). The higher the standard deviation, the more variance there is when comparing values in the distribution to the distribution mean - in other words, the data is more spread out."
   ]
  },
  {
   "cell_type": "code",
   "execution_count": 50,
   "id": "097d6e58",
   "metadata": {},
   "outputs": [
    {
     "name": "stdout",
     "output_type": "stream",
     "text": [
      "[27.4439066782538, 70.91972968538256]\n"
     ]
    },
    {
     "data": {
      "image/png": "[encoded data removed]",
      "text/plain": [
       "<Figure size 576x432 with 1 Axes>"
      ]
     },
     "metadata": {
      "needs_background": "light"
     },
     "output_type": "display_data"
    }
   ],
   "source": [
    "# import scipy.stats as stats\n",
    "\n",
    "#get the data\n",
    "col = df_students['grades']\n",
    "\n",
    "#get the density\n",
    "density = stats.gaussian_kde(col)\n",
    "\n",
    "plt.figure(figsize = (8,6))\n",
    "\n",
    "#plot the density\n",
    "col.plot.density()\n",
    "\n",
    "s = col.std()\n",
    "m = col.mean()\n",
    "\n",
    "#Annotate 1 stdev\n",
    "x1 = [m-s, m+s]\n",
    "print(x1)\n",
    "y1 = density(x1)\n",
    "plt.plot(x1,y1, color = 'magenta')\n",
    "plt.annotate('1 std (68.26%)', (x1[1], y1[1]))\n",
    "\n",
    "#annotate 2 stdev\n",
    "x2 = [m- (s*2), m+(s*2)]\n",
    "y2 = density(x2)\n",
    "plt.plot(x2,y2, color = \"green\")\n",
    "plt.annotate('2 std(95.45%)', (x2[1], y2[1]))\n",
    "\n",
    "#annotate 3 stdev\n",
    "x3 = [m-(s*3), m+(s*3)]\n",
    "y3 = density(x3)\n",
    "plt.plot(x3,y3, color = \"orange\")\n",
    "plt.annotate('2 std (99.73%)', (x3[1], y3[1]))\n",
    "\n",
    "#show the location of the mean \n",
    "plt.axvline(col.mean(), color = \"cyan\", linestyle = 'dashed', linewidth = 1)\n",
    "\n",
    "#remove the axis\n",
    "plt.axis('off')\n",
    "\n",
    "#display the plot\n",
    "plt.show()\n"
   ]
  },
  {
   "cell_type": "markdown",
   "id": "256a09bc",
   "metadata": {},
   "source": [
    "The horizontal lines show the percentage of data within 1, 2, and 3 standard deviations of the mean (plus or minus).\n",
    "\n",
    "In any normal distribution:\n",
    "\n",
    "> Approximately 68.26% of values fall within one standard deviation from the mean.\n",
    "\n",
    "> Approximately 95.45% of values fall within two standard deviations from the mean.\n",
    "\n",
    "> Approximately 99.73% of values fall within three standard deviations from the mean.\n",
    "\n",
    "So, since we know that the mean grade is 49.18, the standard deviation is 21.74, and distribution of grades is approximately normal; we can calculate that 68.26% of students should achieve a grade between 27.44 and 70.92.\n",
    "\n",
    "The descriptive statistics we've used to understand the distribution of the student data variables are the basis of statistical analysis; and because they're such an important part of exploring your data, there's a built-in Describe method of the DataFrame object that returns the main descriptive statistics for all numeric columns."
   ]
  },
  {
   "cell_type": "code",
   "execution_count": 51,
   "id": "c0712a16",
   "metadata": {},
   "outputs": [
    {
     "data": {
      "text/html": [
       "<div>\n",
       "<style scoped>\n",
       "    .dataframe tbody tr th:only-of-type {\n",
       "        vertical-align: middle;\n",
       "    }\n",
       "\n",
       "    .dataframe tbody tr th {\n",
       "        vertical-align: top;\n",
       "    }\n",
       "\n",
       "    .dataframe thead th {\n",
       "        text-align: right;\n",
       "    }\n",
       "</style>\n",
       "<table border=\"1\" class=\"dataframe\">\n",
       "  <thead>\n",
       "    <tr style=\"text-align: right;\">\n",
       "      <th></th>\n",
       "      <th>grades</th>\n",
       "      <th>study_hour</th>\n",
       "    </tr>\n",
       "  </thead>\n",
       "  <tbody>\n",
       "    <tr>\n",
       "      <th>count</th>\n",
       "      <td>22.000000</td>\n",
       "      <td>22.000000</td>\n",
       "    </tr>\n",
       "    <tr>\n",
       "      <th>mean</th>\n",
       "      <td>49.181818</td>\n",
       "      <td>10.522727</td>\n",
       "    </tr>\n",
       "    <tr>\n",
       "      <th>std</th>\n",
       "      <td>21.737912</td>\n",
       "      <td>3.487144</td>\n",
       "    </tr>\n",
       "    <tr>\n",
       "      <th>min</th>\n",
       "      <td>3.000000</td>\n",
       "      <td>1.000000</td>\n",
       "    </tr>\n",
       "    <tr>\n",
       "      <th>25%</th>\n",
       "      <td>36.250000</td>\n",
       "      <td>9.000000</td>\n",
       "    </tr>\n",
       "    <tr>\n",
       "      <th>50%</th>\n",
       "      <td>49.500000</td>\n",
       "      <td>10.000000</td>\n",
       "    </tr>\n",
       "    <tr>\n",
       "      <th>75%</th>\n",
       "      <td>62.750000</td>\n",
       "      <td>12.375000</td>\n",
       "    </tr>\n",
       "    <tr>\n",
       "      <th>max</th>\n",
       "      <td>97.000000</td>\n",
       "      <td>16.000000</td>\n",
       "    </tr>\n",
       "  </tbody>\n",
       "</table>\n",
       "</div>"
      ],
      "text/plain": [
       "          grades  study_hour\n",
       "count  22.000000   22.000000\n",
       "mean   49.181818   10.522727\n",
       "std    21.737912    3.487144\n",
       "min     3.000000    1.000000\n",
       "25%    36.250000    9.000000\n",
       "50%    49.500000   10.000000\n",
       "75%    62.750000   12.375000\n",
       "max    97.000000   16.000000"
      ]
     },
     "execution_count": 51,
     "metadata": {},
     "output_type": "execute_result"
    }
   ],
   "source": [
    "df_students.describe()"
   ]
  },
  {
   "cell_type": "markdown",
   "id": "d6f3652a",
   "metadata": {},
   "source": [
    "### Comparing Data"
   ]
  },
  {
   "cell_type": "code",
   "execution_count": 52,
   "id": "1a25fcf2",
   "metadata": {},
   "outputs": [
    {
     "data": {
      "text/plain": [
       "<AxesSubplot:title={'center':'study_hour'}, xlabel='pass'>"
      ]
     },
     "execution_count": 52,
     "metadata": {},
     "output_type": "execute_result"
    },
    {
     "data": {
      "image/png": "[encoded data removed]",
      "text/plain": [
       "<Figure size 576x360 with 1 Axes>"
      ]
     },
     "metadata": {
      "needs_background": "light"
     },
     "output_type": "display_data"
    }
   ],
   "source": [
    "#comparing numerical and categorical variables \n",
    "df_students.boxplot(column = 'study_hour', by = 'pass', figsize = (8,5) )\n"
   ]
  },
  {
   "cell_type": "markdown",
   "id": "1d1bcb6b",
   "metadata": {},
   "source": [
    "Comparing the StudyHours distributions, it's immediately apparent (if not particularly surprising) that students who passed the course tended to study for more hours than students who didn't. So if you wanted to predict whether or not a student is likely to pass the course, the amount of time they spend studying may be a good predictive feature."
   ]
  },
  {
   "cell_type": "code",
   "execution_count": 53,
   "id": "2c256d32",
   "metadata": {},
   "outputs": [
    {
     "data": {
      "text/plain": [
       "<AxesSubplot:xlabel='name'>"
      ]
     },
     "execution_count": 53,
     "metadata": {},
     "output_type": "execute_result"
    },
    {
     "data": {
      "image/png": "[encoded data removed]",
      "text/plain": [
       "<Figure size 576x360 with 1 Axes>"
      ]
     },
     "metadata": {
      "needs_background": "light"
     },
     "output_type": "display_data"
    }
   ],
   "source": [
    "#comparing 2 numerical variables\n",
    "df_students.plot( x = 'name', y = ['grades', 'study_hour'], kind = 'bar', figsize = (8,5))"
   ]
  },
  {
   "cell_type": "markdown",
   "id": "90d7be8d",
   "metadata": {},
   "source": [
    "The chart above does not show a clear picture as grades and study hour are on different scales.\n",
    "\n",
    "> One technic to use in this case is to normalize the data, in that the values will retain their proportion distribution but measured in the same sclae. \n",
    "\n",
    "> In this case, we will apply a technique called MinMax, that distributes the values on a scale of 0-1 using Scikit-learn Library.\n",
    "\n"
   ]
  },
  {
   "cell_type": "code",
   "execution_count": 54,
   "id": "c5e3adf6",
   "metadata": {},
   "outputs": [
    {
     "data": {
      "text/html": [
       "<div>\n",
       "<style scoped>\n",
       "    .dataframe tbody tr th:only-of-type {\n",
       "        vertical-align: middle;\n",
       "    }\n",
       "\n",
       "    .dataframe tbody tr th {\n",
       "        vertical-align: top;\n",
       "    }\n",
       "\n",
       "    .dataframe thead th {\n",
       "        text-align: right;\n",
       "    }\n",
       "</style>\n",
       "<table border=\"1\" class=\"dataframe\">\n",
       "  <thead>\n",
       "    <tr style=\"text-align: right;\">\n",
       "      <th></th>\n",
       "      <th>name</th>\n",
       "      <th>study_hour</th>\n",
       "      <th>grades</th>\n",
       "    </tr>\n",
       "  </thead>\n",
       "  <tbody>\n",
       "    <tr>\n",
       "      <th>3</th>\n",
       "      <td>Rosie</td>\n",
       "      <td>1.000000</td>\n",
       "      <td>1.000000</td>\n",
       "    </tr>\n",
       "    <tr>\n",
       "      <th>10</th>\n",
       "      <td>Francesca</td>\n",
       "      <td>0.966667</td>\n",
       "      <td>0.840426</td>\n",
       "    </tr>\n",
       "    <tr>\n",
       "      <th>9</th>\n",
       "      <td>Giovanni</td>\n",
       "      <td>0.900000</td>\n",
       "      <td>0.755319</td>\n",
       "    </tr>\n",
       "    <tr>\n",
       "      <th>14</th>\n",
       "      <td>Jenny</td>\n",
       "      <td>0.966667</td>\n",
       "      <td>0.712766</td>\n",
       "    </tr>\n",
       "    <tr>\n",
       "      <th>21</th>\n",
       "      <td>Aisha</td>\n",
       "      <td>0.733333</td>\n",
       "      <td>0.648936</td>\n",
       "    </tr>\n",
       "    <tr>\n",
       "      <th>20</th>\n",
       "      <td>Daniel</td>\n",
       "      <td>0.766667</td>\n",
       "      <td>0.638298</td>\n",
       "    </tr>\n",
       "    <tr>\n",
       "      <th>11</th>\n",
       "      <td>Rajab</td>\n",
       "      <td>0.850000</td>\n",
       "      <td>0.627660</td>\n",
       "    </tr>\n",
       "    <tr>\n",
       "      <th>6</th>\n",
       "      <td>Frederic</td>\n",
       "      <td>0.700000</td>\n",
       "      <td>0.531915</td>\n",
       "    </tr>\n",
       "    <tr>\n",
       "      <th>19</th>\n",
       "      <td>Skye</td>\n",
       "      <td>0.733333</td>\n",
       "      <td>0.521277</td>\n",
       "    </tr>\n",
       "    <tr>\n",
       "      <th>1</th>\n",
       "      <td>Joann</td>\n",
       "      <td>0.700000</td>\n",
       "      <td>0.500000</td>\n",
       "    </tr>\n",
       "    <tr>\n",
       "      <th>0</th>\n",
       "      <td>Dan</td>\n",
       "      <td>0.600000</td>\n",
       "      <td>0.500000</td>\n",
       "    </tr>\n",
       "    <tr>\n",
       "      <th>4</th>\n",
       "      <td>Ethan</td>\n",
       "      <td>0.550000</td>\n",
       "      <td>0.489362</td>\n",
       "    </tr>\n",
       "    <tr>\n",
       "      <th>18</th>\n",
       "      <td>Anila</td>\n",
       "      <td>0.600000</td>\n",
       "      <td>0.478723</td>\n",
       "    </tr>\n",
       "    <tr>\n",
       "      <th>2</th>\n",
       "      <td>Pedro</td>\n",
       "      <td>0.533333</td>\n",
       "      <td>0.468085</td>\n",
       "    </tr>\n",
       "    <tr>\n",
       "      <th>7</th>\n",
       "      <td>Jimmie</td>\n",
       "      <td>0.533333</td>\n",
       "      <td>0.414894</td>\n",
       "    </tr>\n",
       "    <tr>\n",
       "      <th>12</th>\n",
       "      <td>Naiyana</td>\n",
       "      <td>0.533333</td>\n",
       "      <td>0.361702</td>\n",
       "    </tr>\n",
       "    <tr>\n",
       "      <th>16</th>\n",
       "      <td>Helena</td>\n",
       "      <td>0.533333</td>\n",
       "      <td>0.351064</td>\n",
       "    </tr>\n",
       "    <tr>\n",
       "      <th>17</th>\n",
       "      <td>Ismat</td>\n",
       "      <td>0.333333</td>\n",
       "      <td>0.340426</td>\n",
       "    </tr>\n",
       "    <tr>\n",
       "      <th>15</th>\n",
       "      <td>Jakeem</td>\n",
       "      <td>0.466667</td>\n",
       "      <td>0.255319</td>\n",
       "    </tr>\n",
       "    <tr>\n",
       "      <th>8</th>\n",
       "      <td>Rhonda</td>\n",
       "      <td>0.500000</td>\n",
       "      <td>0.244681</td>\n",
       "    </tr>\n",
       "    <tr>\n",
       "      <th>13</th>\n",
       "      <td>Kian</td>\n",
       "      <td>0.466667</td>\n",
       "      <td>0.127660</td>\n",
       "    </tr>\n",
       "    <tr>\n",
       "      <th>5</th>\n",
       "      <td>Vicky</td>\n",
       "      <td>0.000000</td>\n",
       "      <td>0.000000</td>\n",
       "    </tr>\n",
       "  </tbody>\n",
       "</table>\n",
       "</div>"
      ],
      "text/plain": [
       "         name  study_hour    grades\n",
       "3       Rosie    1.000000  1.000000\n",
       "10  Francesca    0.966667  0.840426\n",
       "9    Giovanni    0.900000  0.755319\n",
       "14      Jenny    0.966667  0.712766\n",
       "21      Aisha    0.733333  0.648936\n",
       "20     Daniel    0.766667  0.638298\n",
       "11      Rajab    0.850000  0.627660\n",
       "6    Frederic    0.700000  0.531915\n",
       "19       Skye    0.733333  0.521277\n",
       "1       Joann    0.700000  0.500000\n",
       "0         Dan    0.600000  0.500000\n",
       "4       Ethan    0.550000  0.489362\n",
       "18      Anila    0.600000  0.478723\n",
       "2       Pedro    0.533333  0.468085\n",
       "7      Jimmie    0.533333  0.414894\n",
       "12    Naiyana    0.533333  0.361702\n",
       "16     Helena    0.533333  0.351064\n",
       "17      Ismat    0.333333  0.340426\n",
       "15     Jakeem    0.466667  0.255319\n",
       "8      Rhonda    0.500000  0.244681\n",
       "13       Kian    0.466667  0.127660\n",
       "5       Vicky    0.000000  0.000000"
      ]
     },
     "execution_count": 54,
     "metadata": {},
     "output_type": "execute_result"
    }
   ],
   "source": [
    "#get a sclaer object\n",
    "scaler = MinMaxScaler()\n",
    "\n",
    "#create a copy of the dataframe for the scaled values\n",
    "df_normalized  = df_students[['name', 'study_hour', 'grades']].copy()\n",
    "\n",
    "df_normalized[['grades', 'study_hour']] = scaler.fit_transform(df_normalized[['grades', 'study_hour']])\n",
    "\n",
    "\n",
    "df_normalized"
   ]
  },
  {
   "cell_type": "code",
   "execution_count": 55,
   "id": "75e8c44d",
   "metadata": {},
   "outputs": [
    {
     "data": {
      "text/plain": [
       "<AxesSubplot:xlabel='name'>"
      ]
     },
     "execution_count": 55,
     "metadata": {},
     "output_type": "execute_result"
    },
    {
     "data": {
      "image/png": "[encoded data removed]",
      "text/plain": [
       "<Figure size 576x360 with 1 Axes>"
      ]
     },
     "metadata": {
      "needs_background": "light"
     },
     "output_type": "display_data"
    }
   ],
   "source": [
    "df_normalized.plot( x ='name', y = ['grades', 'study_hour'], kind = 'bar', figsize = (8,5))"
   ]
  },
  {
   "cell_type": "markdown",
   "id": "88e4821c",
   "metadata": {},
   "source": [
    "It's not an exact match, but it definitely seems like students with higher grades tend to have studied more.\n",
    "\n",
    "We can actually investigate the correlation between grades and studyhour and identify the relationship"
   ]
  },
  {
   "cell_type": "code",
   "execution_count": 56,
   "id": "61b6922e",
   "metadata": {},
   "outputs": [
    {
     "data": {
      "text/plain": [
       "0.9254280509006747"
      ]
     },
     "execution_count": 56,
     "metadata": {},
     "output_type": "execute_result"
    }
   ],
   "source": [
    "df_normalized.grades.corr(df_normalized.study_hour)"
   ]
  },
  {
   "cell_type": "markdown",
   "id": "496d02fc",
   "metadata": {},
   "source": [
    "The correlation statistic is a value between -1 and 1 that indicates the strength of a relationship.\n",
    "> Values above 0 indicate a positive correlation (high values of one variable tend to coincide with high values of the other), while values below 0 indicate a negative correlation (high values of one variable tend to coincide with low values of the other).\n",
    "\n",
    "> In this case, the correlation value is close to 1; showing a strongly positive correlation between study time and grade."
   ]
  },
  {
   "cell_type": "markdown",
   "id": "28f42f6c",
   "metadata": {},
   "source": [
    "Another way to visualise the apparent correlation between two numeric columns is to use a scatter plot."
   ]
  },
  {
   "cell_type": "code",
   "execution_count": 57,
   "id": "b156b91f",
   "metadata": {},
   "outputs": [
    {
     "data": {
      "text/plain": [
       "<AxesSubplot:title={'center':'Study hours VS Grades'}, xlabel='study_hour', ylabel='grades'>"
      ]
     },
     "execution_count": 57,
     "metadata": {},
     "output_type": "execute_result"
    },
    {
     "data": {
      "image/png": "[encoded data removed]",
      "text/plain": [
       "<Figure size 432x288 with 1 Axes>"
      ]
     },
     "metadata": {
      "needs_background": "light"
     },
     "output_type": "display_data"
    }
   ],
   "source": [
    "df_students.plot.scatter( title = 'Study hours VS Grades', x = 'study_hour', y = 'grades')"
   ]
  },
  {
   "cell_type": "markdown",
   "id": "6a68c848",
   "metadata": {},
   "source": [
    "Again, it looks like there's a discernible pattern in which the students who studied the most hours are also the students who got the highest grades.\n",
    "\n",
    "Actually, we can add a regression line(line of best fit) to clearly see the trend using a technique called least squares regression."
   ]
  },
  {
   "cell_type": "code",
   "execution_count": 58,
   "id": "eb533735",
   "metadata": {},
   "outputs": [
    {
     "name": "stdout",
     "output_type": "stream",
     "text": [
      "Slope: 5.7689\n",
      " y-Intercept: -11.5224\n",
      "so...\n",
      " Our function is f(x) = 5.7689x + -11.5224\n"
     ]
    },
    {
     "data": {
      "image/png": "[encoded data removed]",
      "text/plain": [
       "<Figure size 432x288 with 1 Axes>"
      ]
     },
     "metadata": {
      "needs_background": "light"
     },
     "output_type": "display_data"
    }
   ],
   "source": [
    "#create a new dataframe for values we are comparing\n",
    "df_regression = df_students[['grades', 'study_hour']].copy()\n",
    "\n",
    "#Get the regression slope, and intercept \n",
    "m,b,r,p,se = stats.linregress((df_regression['study_hour'], df_regression['grades']))\n",
    "\n",
    "#print the slope, intercept and the function\n",
    "print('Slope: {:.4f}\\n y-Intercept: {:.4f}'.format(m,b))\n",
    "print('so...\\n Our function is f(x) = {:.4f}x + {:.4f}'.format(m,b))\n",
    "\n",
    "\n",
    "#using the function f(x) = mx + b, calculate the f(x) for each value of study hours (x)\n",
    "df_regression['fx'] = (m * df_regression['study_hour']) + b\n",
    "\n",
    "#calcluate the error between the f(x) values and grade actual values\n",
    "df_regression['erroe'] = df_regression['fx'] - df_regression['grades']\n",
    "\n",
    "#create scatter plot of study hours vs grades\n",
    "\n",
    "df_regression.plot.scatter(x = 'study_hour', y = 'grades')\n",
    "\n",
    "plt.plot(df_regression['study_hour'], df_regression['fx'], color = 'cyan')\n",
    "\n",
    "plt.show()\n"
   ]
  },
  {
   "cell_type": "code",
   "execution_count": 64,
   "id": "9a1cff32",
   "metadata": {},
   "outputs": [],
   "source": [
    "df_regression.rename(columns ={'erroe': 'error'}, inplace = True)"
   ]
  },
  {
   "cell_type": "code",
   "execution_count": 65,
   "id": "5473c8ab",
   "metadata": {},
   "outputs": [
    {
     "data": {
      "text/html": [
       "<div>\n",
       "<style scoped>\n",
       "    .dataframe tbody tr th:only-of-type {\n",
       "        vertical-align: middle;\n",
       "    }\n",
       "\n",
       "    .dataframe tbody tr th {\n",
       "        vertical-align: top;\n",
       "    }\n",
       "\n",
       "    .dataframe thead th {\n",
       "        text-align: right;\n",
       "    }\n",
       "</style>\n",
       "<table border=\"1\" class=\"dataframe\">\n",
       "  <thead>\n",
       "    <tr style=\"text-align: right;\">\n",
       "      <th></th>\n",
       "      <th>grades</th>\n",
       "      <th>study_hour</th>\n",
       "      <th>fx</th>\n",
       "      <th>error</th>\n",
       "    </tr>\n",
       "  </thead>\n",
       "  <tbody>\n",
       "    <tr>\n",
       "      <th>3</th>\n",
       "      <td>97</td>\n",
       "      <td>16.00</td>\n",
       "      <td>80.779481</td>\n",
       "      <td>-16.220519</td>\n",
       "    </tr>\n",
       "    <tr>\n",
       "      <th>10</th>\n",
       "      <td>82</td>\n",
       "      <td>15.50</td>\n",
       "      <td>77.895047</td>\n",
       "      <td>-4.104953</td>\n",
       "    </tr>\n",
       "    <tr>\n",
       "      <th>9</th>\n",
       "      <td>74</td>\n",
       "      <td>14.50</td>\n",
       "      <td>72.126179</td>\n",
       "      <td>-1.873821</td>\n",
       "    </tr>\n",
       "    <tr>\n",
       "      <th>14</th>\n",
       "      <td>70</td>\n",
       "      <td>15.50</td>\n",
       "      <td>77.895047</td>\n",
       "      <td>7.895047</td>\n",
       "    </tr>\n",
       "    <tr>\n",
       "      <th>21</th>\n",
       "      <td>64</td>\n",
       "      <td>12.00</td>\n",
       "      <td>57.704009</td>\n",
       "      <td>-6.295991</td>\n",
       "    </tr>\n",
       "    <tr>\n",
       "      <th>20</th>\n",
       "      <td>63</td>\n",
       "      <td>12.50</td>\n",
       "      <td>60.588443</td>\n",
       "      <td>-2.411557</td>\n",
       "    </tr>\n",
       "    <tr>\n",
       "      <th>11</th>\n",
       "      <td>62</td>\n",
       "      <td>13.75</td>\n",
       "      <td>67.799528</td>\n",
       "      <td>5.799528</td>\n",
       "    </tr>\n",
       "    <tr>\n",
       "      <th>6</th>\n",
       "      <td>53</td>\n",
       "      <td>11.50</td>\n",
       "      <td>54.819575</td>\n",
       "      <td>1.819575</td>\n",
       "    </tr>\n",
       "    <tr>\n",
       "      <th>19</th>\n",
       "      <td>52</td>\n",
       "      <td>12.00</td>\n",
       "      <td>57.704009</td>\n",
       "      <td>5.704009</td>\n",
       "    </tr>\n",
       "    <tr>\n",
       "      <th>1</th>\n",
       "      <td>50</td>\n",
       "      <td>11.50</td>\n",
       "      <td>54.819575</td>\n",
       "      <td>4.819575</td>\n",
       "    </tr>\n",
       "    <tr>\n",
       "      <th>0</th>\n",
       "      <td>50</td>\n",
       "      <td>10.00</td>\n",
       "      <td>46.166274</td>\n",
       "      <td>-3.833726</td>\n",
       "    </tr>\n",
       "    <tr>\n",
       "      <th>4</th>\n",
       "      <td>49</td>\n",
       "      <td>9.25</td>\n",
       "      <td>41.839623</td>\n",
       "      <td>-7.160377</td>\n",
       "    </tr>\n",
       "    <tr>\n",
       "      <th>18</th>\n",
       "      <td>48</td>\n",
       "      <td>10.00</td>\n",
       "      <td>46.166274</td>\n",
       "      <td>-1.833726</td>\n",
       "    </tr>\n",
       "    <tr>\n",
       "      <th>2</th>\n",
       "      <td>47</td>\n",
       "      <td>9.00</td>\n",
       "      <td>40.397406</td>\n",
       "      <td>-6.602594</td>\n",
       "    </tr>\n",
       "    <tr>\n",
       "      <th>7</th>\n",
       "      <td>42</td>\n",
       "      <td>9.00</td>\n",
       "      <td>40.397406</td>\n",
       "      <td>-1.602594</td>\n",
       "    </tr>\n",
       "    <tr>\n",
       "      <th>12</th>\n",
       "      <td>37</td>\n",
       "      <td>9.00</td>\n",
       "      <td>40.397406</td>\n",
       "      <td>3.397406</td>\n",
       "    </tr>\n",
       "    <tr>\n",
       "      <th>16</th>\n",
       "      <td>36</td>\n",
       "      <td>9.00</td>\n",
       "      <td>40.397406</td>\n",
       "      <td>4.397406</td>\n",
       "    </tr>\n",
       "    <tr>\n",
       "      <th>17</th>\n",
       "      <td>35</td>\n",
       "      <td>6.00</td>\n",
       "      <td>23.090802</td>\n",
       "      <td>-11.909198</td>\n",
       "    </tr>\n",
       "    <tr>\n",
       "      <th>15</th>\n",
       "      <td>27</td>\n",
       "      <td>8.00</td>\n",
       "      <td>34.628538</td>\n",
       "      <td>7.628538</td>\n",
       "    </tr>\n",
       "    <tr>\n",
       "      <th>8</th>\n",
       "      <td>26</td>\n",
       "      <td>8.50</td>\n",
       "      <td>37.512972</td>\n",
       "      <td>11.512972</td>\n",
       "    </tr>\n",
       "    <tr>\n",
       "      <th>13</th>\n",
       "      <td>15</td>\n",
       "      <td>8.00</td>\n",
       "      <td>34.628538</td>\n",
       "      <td>19.628538</td>\n",
       "    </tr>\n",
       "    <tr>\n",
       "      <th>5</th>\n",
       "      <td>3</td>\n",
       "      <td>1.00</td>\n",
       "      <td>-5.753538</td>\n",
       "      <td>-8.753538</td>\n",
       "    </tr>\n",
       "  </tbody>\n",
       "</table>\n",
       "</div>"
      ],
      "text/plain": [
       "    grades  study_hour         fx      error\n",
       "3       97       16.00  80.779481 -16.220519\n",
       "10      82       15.50  77.895047  -4.104953\n",
       "9       74       14.50  72.126179  -1.873821\n",
       "14      70       15.50  77.895047   7.895047\n",
       "21      64       12.00  57.704009  -6.295991\n",
       "20      63       12.50  60.588443  -2.411557\n",
       "11      62       13.75  67.799528   5.799528\n",
       "6       53       11.50  54.819575   1.819575\n",
       "19      52       12.00  57.704009   5.704009\n",
       "1       50       11.50  54.819575   4.819575\n",
       "0       50       10.00  46.166274  -3.833726\n",
       "4       49        9.25  41.839623  -7.160377\n",
       "18      48       10.00  46.166274  -1.833726\n",
       "2       47        9.00  40.397406  -6.602594\n",
       "7       42        9.00  40.397406  -1.602594\n",
       "12      37        9.00  40.397406   3.397406\n",
       "16      36        9.00  40.397406   4.397406\n",
       "17      35        6.00  23.090802 -11.909198\n",
       "15      27        8.00  34.628538   7.628538\n",
       "8       26        8.50  37.512972  11.512972\n",
       "13      15        8.00  34.628538  19.628538\n",
       "5        3        1.00  -5.753538  -8.753538"
      ]
     },
     "execution_count": 65,
     "metadata": {},
     "output_type": "execute_result"
    }
   ],
   "source": [
    "df_regression"
   ]
  },
  {
   "cell_type": "markdown",
   "id": "0e638dac",
   "metadata": {},
   "source": [
    "## Using the regression coeffients to predict grades"
   ]
  },
  {
   "cell_type": "code",
   "execution_count": 66,
   "id": "4ccb2066",
   "metadata": {},
   "outputs": [
    {
     "name": "stdout",
     "output_type": "stream",
     "text": [
      "Studying for 14 hours week may result in a grade of 69\n"
     ]
    }
   ],
   "source": [
    "#define a function \n",
    "def f(x):\n",
    "    m = 5.7689\n",
    "    b = -11.5224\n",
    "    return m*x + b\n",
    "\n",
    "study_time = 14\n",
    "\n",
    "#get f(x) for study time\n",
    "prediction = f(study_time)\n",
    "\n",
    "#considering grade can't be less than 0 or greater than 100\n",
    "expected_grade = max(0,min(100, prediction))\n",
    "\n",
    "#print the estimated grade\n",
    "print('Studying for {} hours week may result in a grade of {:.0f}'.format(study_time, expected_grade))"
   ]
  },
  {
   "cell_type": "code",
   "execution_count": null,
   "id": "7fe3a617",
   "metadata": {},
   "outputs": [],
   "source": []
  }
 ],
 "metadata": {
  "kernelspec": {
   "display_name": "Python 3 (ipykernel)",
   "language": "python",
   "name": "python3"
  },
  "language_info": {
   "codemirror_mode": {
    "name": "ipython",
    "version": 3
   },
   "file_extension": ".py",
   "mimetype": "text/x-python",
   "name": "python",
   "nbconvert_exporter": "python",
   "pygments_lexer": "ipython3",
   "version": "3.9.12"
  }
 },
 "nbformat": 4,
 "nbformat_minor": 5
}
