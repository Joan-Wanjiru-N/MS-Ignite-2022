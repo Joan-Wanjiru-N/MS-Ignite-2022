{
 "cells": [
  {
   "cell_type": "code",
   "execution_count": 60,
   "id": "46304f74",
   "metadata": {},
   "outputs": [],
   "source": [
    "import numpy as np\n",
    "import pandas as pd\n",
    "from matplotlib import pyplot as plt\n",
    "\n",
    "%matplotlib inline"
   ]
  },
  {
   "cell_type": "code",
   "execution_count": 61,
   "id": "1c153c7f",
   "metadata": {},
   "outputs": [
    {
     "name": "stdout",
     "output_type": "stream",
     "text": [
      "[50, 50, 47, 97, 49, 3, 53, 42, 26, 74, 82, 62, 37, 15, 70, 27, 36, 35, 48, 52, 63, 64]\n"
     ]
    }
   ],
   "source": [
    "data = [50,50,47,97,49,3,53,42,26,74,82,62,37,15,70,27,36,35,48,52,63,64]\n",
    "print(data)"
   ]
  },
  {
   "cell_type": "code",
   "execution_count": 62,
   "id": "8424c53d",
   "metadata": {},
   "outputs": [
    {
     "data": {
      "text/plain": [
       "array([50, 50, 47, 97, 49,  3, 53, 42, 26, 74, 82, 62, 37, 15, 70, 27, 36,\n",
       "       35, 48, 52, 63, 64])"
      ]
     },
     "execution_count": 62,
     "metadata": {},
     "output_type": "execute_result"
    }
   ],
   "source": [
    "grades =  np.array(data)\n",
    "\n",
    "grades"
   ]
  },
  {
   "cell_type": "code",
   "execution_count": 63,
   "id": "671c2692",
   "metadata": {},
   "outputs": [
    {
     "name": "stdout",
     "output_type": "stream",
     "text": [
      "[50, 50, 47, 97, 49, 3, 53, 42, 26, 74, 82, 62, 37, 15, 70, 27, 36, 35, 48, 52, 63, 64, 50, 50, 47, 97, 49, 3, 53, 42, 26, 74, 82, 62, 37, 15, 70, 27, 36, 35, 48, 52, 63, 64]\n",
      "[100 100  94 194  98   6 106  84  52 148 164 124  74  30 140  54  72  70\n",
      "  96 104 126 128]\n"
     ]
    }
   ],
   "source": [
    "# Differences between lists and numpy array\n",
    "print(data * 2)\n",
    "print(grades* 2)"
   ]
  },
  {
   "cell_type": "code",
   "execution_count": 64,
   "id": "d177839b",
   "metadata": {},
   "outputs": [
    {
     "data": {
      "text/plain": [
       "49.18181818181818"
      ]
     },
     "execution_count": 64,
     "metadata": {},
     "output_type": "execute_result"
    }
   ],
   "source": [
    "grades.mean()"
   ]
  },
  {
   "cell_type": "code",
   "execution_count": 65,
   "id": "435ca371",
   "metadata": {},
   "outputs": [],
   "source": [
    "study_hours = [10.0,11.5,9.0,16.0,9.25,1.0,11.5,9.0,8.5,14.5,15.5,\n",
    "               13.75,9.0,8.0,15.5,8.0,9.0,6.0,10.0,12.0,12.5,12.0]"
   ]
  },
  {
   "cell_type": "code",
   "execution_count": 66,
   "id": "c4183127",
   "metadata": {},
   "outputs": [],
   "source": [
    "student_data = np.array([study_hours, grades])"
   ]
  },
  {
   "cell_type": "code",
   "execution_count": 67,
   "id": "0ac58f71",
   "metadata": {},
   "outputs": [
    {
     "data": {
      "text/plain": [
       "(2, 22)"
      ]
     },
     "execution_count": 67,
     "metadata": {},
     "output_type": "execute_result"
    }
   ],
   "source": [
    "student_data.shape"
   ]
  },
  {
   "cell_type": "code",
   "execution_count": 68,
   "id": "96ecb809",
   "metadata": {},
   "outputs": [
    {
     "name": "stdout",
     "output_type": "stream",
     "text": [
      "Avg study hr: 10.52 and Avg grade: 49.18\n"
     ]
    }
   ],
   "source": [
    "avg_study = student_data[0].mean()\n",
    "avg_grade = student_data[1].mean()\n",
    "\n",
    "print('Avg study hr: {:.2f} and Avg grade: {:.2f}'.format(avg_study, avg_grade))"
   ]
  },
  {
   "cell_type": "code",
   "execution_count": 69,
   "id": "bb11041a",
   "metadata": {},
   "outputs": [],
   "source": [
    "Name = ['Dan', 'Joann', 'Pedro', 'Rosie', 'Ethan', 'Vicky', 'Frederic', 'Jimmie', \n",
    "                                     'Rhonda', 'Giovanni', 'Francesca', 'Rajab', 'Naiyana', 'Kian', 'Jenny',\n",
    "                                     'Jakeem','Helena','Ismat','Anila','Skye','Daniel','Aisha']"
   ]
  },
  {
   "cell_type": "code",
   "execution_count": 70,
   "id": "92daea04",
   "metadata": {},
   "outputs": [],
   "source": [
    "student_data= np.array([data,study_hours,Name])"
   ]
  },
  {
   "cell_type": "code",
   "execution_count": 71,
   "id": "4492a27b",
   "metadata": {},
   "outputs": [
    {
     "data": {
      "text/plain": [
       "array([['50', '50', '47', '97', '49', '3', '53', '42', '26', '74', '82',\n",
       "        '62', '37', '15', '70', '27', '36', '35', '48', '52', '63', '64'],\n",
       "       ['10.0', '11.5', '9.0', '16.0', '9.25', '1.0', '11.5', '9.0',\n",
       "        '8.5', '14.5', '15.5', '13.75', '9.0', '8.0', '15.5', '8.0',\n",
       "        '9.0', '6.0', '10.0', '12.0', '12.5', '12.0'],\n",
       "       ['Dan', 'Joann', 'Pedro', 'Rosie', 'Ethan', 'Vicky', 'Frederic',\n",
       "        'Jimmie', 'Rhonda', 'Giovanni', 'Francesca', 'Rajab', 'Naiyana',\n",
       "        'Kian', 'Jenny', 'Jakeem', 'Helena', 'Ismat', 'Anila', 'Skye',\n",
       "        'Daniel', 'Aisha']], dtype='<U32')"
      ]
     },
     "execution_count": 71,
     "metadata": {},
     "output_type": "execute_result"
    }
   ],
   "source": [
    "student_data"
   ]
  },
  {
   "cell_type": "code",
   "execution_count": 72,
   "id": "d30f05ff",
   "metadata": {},
   "outputs": [],
   "source": [
    "df_students = pd.DataFrame(student_data)"
   ]
  },
  {
   "cell_type": "code",
   "execution_count": 73,
   "id": "6322e375",
   "metadata": {},
   "outputs": [],
   "source": [
    "df_students = df_students.T"
   ]
  },
  {
   "cell_type": "code",
   "execution_count": 74,
   "id": "281b7275",
   "metadata": {},
   "outputs": [
    {
     "data": {
      "text/html": [
       "<div>\n",
       "<style scoped>\n",
       "    .dataframe tbody tr th:only-of-type {\n",
       "        vertical-align: middle;\n",
       "    }\n",
       "\n",
       "    .dataframe tbody tr th {\n",
       "        vertical-align: top;\n",
       "    }\n",
       "\n",
       "    .dataframe thead th {\n",
       "        text-align: right;\n",
       "    }\n",
       "</style>\n",
       "<table border=\"1\" class=\"dataframe\">\n",
       "  <thead>\n",
       "    <tr style=\"text-align: right;\">\n",
       "      <th></th>\n",
       "      <th>0</th>\n",
       "      <th>1</th>\n",
       "      <th>2</th>\n",
       "    </tr>\n",
       "  </thead>\n",
       "  <tbody>\n",
       "    <tr>\n",
       "      <th>0</th>\n",
       "      <td>50</td>\n",
       "      <td>10.0</td>\n",
       "      <td>Dan</td>\n",
       "    </tr>\n",
       "    <tr>\n",
       "      <th>1</th>\n",
       "      <td>50</td>\n",
       "      <td>11.5</td>\n",
       "      <td>Joann</td>\n",
       "    </tr>\n",
       "    <tr>\n",
       "      <th>2</th>\n",
       "      <td>47</td>\n",
       "      <td>9.0</td>\n",
       "      <td>Pedro</td>\n",
       "    </tr>\n",
       "    <tr>\n",
       "      <th>3</th>\n",
       "      <td>97</td>\n",
       "      <td>16.0</td>\n",
       "      <td>Rosie</td>\n",
       "    </tr>\n",
       "    <tr>\n",
       "      <th>4</th>\n",
       "      <td>49</td>\n",
       "      <td>9.25</td>\n",
       "      <td>Ethan</td>\n",
       "    </tr>\n",
       "    <tr>\n",
       "      <th>5</th>\n",
       "      <td>3</td>\n",
       "      <td>1.0</td>\n",
       "      <td>Vicky</td>\n",
       "    </tr>\n",
       "    <tr>\n",
       "      <th>6</th>\n",
       "      <td>53</td>\n",
       "      <td>11.5</td>\n",
       "      <td>Frederic</td>\n",
       "    </tr>\n",
       "    <tr>\n",
       "      <th>7</th>\n",
       "      <td>42</td>\n",
       "      <td>9.0</td>\n",
       "      <td>Jimmie</td>\n",
       "    </tr>\n",
       "    <tr>\n",
       "      <th>8</th>\n",
       "      <td>26</td>\n",
       "      <td>8.5</td>\n",
       "      <td>Rhonda</td>\n",
       "    </tr>\n",
       "    <tr>\n",
       "      <th>9</th>\n",
       "      <td>74</td>\n",
       "      <td>14.5</td>\n",
       "      <td>Giovanni</td>\n",
       "    </tr>\n",
       "    <tr>\n",
       "      <th>10</th>\n",
       "      <td>82</td>\n",
       "      <td>15.5</td>\n",
       "      <td>Francesca</td>\n",
       "    </tr>\n",
       "    <tr>\n",
       "      <th>11</th>\n",
       "      <td>62</td>\n",
       "      <td>13.75</td>\n",
       "      <td>Rajab</td>\n",
       "    </tr>\n",
       "    <tr>\n",
       "      <th>12</th>\n",
       "      <td>37</td>\n",
       "      <td>9.0</td>\n",
       "      <td>Naiyana</td>\n",
       "    </tr>\n",
       "    <tr>\n",
       "      <th>13</th>\n",
       "      <td>15</td>\n",
       "      <td>8.0</td>\n",
       "      <td>Kian</td>\n",
       "    </tr>\n",
       "    <tr>\n",
       "      <th>14</th>\n",
       "      <td>70</td>\n",
       "      <td>15.5</td>\n",
       "      <td>Jenny</td>\n",
       "    </tr>\n",
       "    <tr>\n",
       "      <th>15</th>\n",
       "      <td>27</td>\n",
       "      <td>8.0</td>\n",
       "      <td>Jakeem</td>\n",
       "    </tr>\n",
       "    <tr>\n",
       "      <th>16</th>\n",
       "      <td>36</td>\n",
       "      <td>9.0</td>\n",
       "      <td>Helena</td>\n",
       "    </tr>\n",
       "    <tr>\n",
       "      <th>17</th>\n",
       "      <td>35</td>\n",
       "      <td>6.0</td>\n",
       "      <td>Ismat</td>\n",
       "    </tr>\n",
       "    <tr>\n",
       "      <th>18</th>\n",
       "      <td>48</td>\n",
       "      <td>10.0</td>\n",
       "      <td>Anila</td>\n",
       "    </tr>\n",
       "    <tr>\n",
       "      <th>19</th>\n",
       "      <td>52</td>\n",
       "      <td>12.0</td>\n",
       "      <td>Skye</td>\n",
       "    </tr>\n",
       "    <tr>\n",
       "      <th>20</th>\n",
       "      <td>63</td>\n",
       "      <td>12.5</td>\n",
       "      <td>Daniel</td>\n",
       "    </tr>\n",
       "    <tr>\n",
       "      <th>21</th>\n",
       "      <td>64</td>\n",
       "      <td>12.0</td>\n",
       "      <td>Aisha</td>\n",
       "    </tr>\n",
       "  </tbody>\n",
       "</table>\n",
       "</div>"
      ],
      "text/plain": [
       "     0      1          2\n",
       "0   50   10.0        Dan\n",
       "1   50   11.5      Joann\n",
       "2   47    9.0      Pedro\n",
       "3   97   16.0      Rosie\n",
       "4   49   9.25      Ethan\n",
       "5    3    1.0      Vicky\n",
       "6   53   11.5   Frederic\n",
       "7   42    9.0     Jimmie\n",
       "8   26    8.5     Rhonda\n",
       "9   74   14.5   Giovanni\n",
       "10  82   15.5  Francesca\n",
       "11  62  13.75      Rajab\n",
       "12  37    9.0    Naiyana\n",
       "13  15    8.0       Kian\n",
       "14  70   15.5      Jenny\n",
       "15  27    8.0     Jakeem\n",
       "16  36    9.0     Helena\n",
       "17  35    6.0      Ismat\n",
       "18  48   10.0      Anila\n",
       "19  52   12.0       Skye\n",
       "20  63   12.5     Daniel\n",
       "21  64   12.0      Aisha"
      ]
     },
     "execution_count": 74,
     "metadata": {},
     "output_type": "execute_result"
    }
   ],
   "source": [
    "df_students"
   ]
  },
  {
   "cell_type": "code",
   "execution_count": 75,
   "id": "3e66974f",
   "metadata": {},
   "outputs": [
    {
     "data": {
      "text/html": [
       "<div>\n",
       "<style scoped>\n",
       "    .dataframe tbody tr th:only-of-type {\n",
       "        vertical-align: middle;\n",
       "    }\n",
       "\n",
       "    .dataframe tbody tr th {\n",
       "        vertical-align: top;\n",
       "    }\n",
       "\n",
       "    .dataframe thead th {\n",
       "        text-align: right;\n",
       "    }\n",
       "</style>\n",
       "<table border=\"1\" class=\"dataframe\">\n",
       "  <thead>\n",
       "    <tr style=\"text-align: right;\">\n",
       "      <th></th>\n",
       "      <th>grades</th>\n",
       "      <th>study_hour</th>\n",
       "      <th>name</th>\n",
       "    </tr>\n",
       "  </thead>\n",
       "  <tbody>\n",
       "    <tr>\n",
       "      <th>0</th>\n",
       "      <td>50</td>\n",
       "      <td>10.0</td>\n",
       "      <td>Dan</td>\n",
       "    </tr>\n",
       "    <tr>\n",
       "      <th>1</th>\n",
       "      <td>50</td>\n",
       "      <td>11.5</td>\n",
       "      <td>Joann</td>\n",
       "    </tr>\n",
       "    <tr>\n",
       "      <th>2</th>\n",
       "      <td>47</td>\n",
       "      <td>9.0</td>\n",
       "      <td>Pedro</td>\n",
       "    </tr>\n",
       "    <tr>\n",
       "      <th>3</th>\n",
       "      <td>97</td>\n",
       "      <td>16.0</td>\n",
       "      <td>Rosie</td>\n",
       "    </tr>\n",
       "    <tr>\n",
       "      <th>4</th>\n",
       "      <td>49</td>\n",
       "      <td>9.25</td>\n",
       "      <td>Ethan</td>\n",
       "    </tr>\n",
       "    <tr>\n",
       "      <th>5</th>\n",
       "      <td>3</td>\n",
       "      <td>1.0</td>\n",
       "      <td>Vicky</td>\n",
       "    </tr>\n",
       "    <tr>\n",
       "      <th>6</th>\n",
       "      <td>53</td>\n",
       "      <td>11.5</td>\n",
       "      <td>Frederic</td>\n",
       "    </tr>\n",
       "    <tr>\n",
       "      <th>7</th>\n",
       "      <td>42</td>\n",
       "      <td>9.0</td>\n",
       "      <td>Jimmie</td>\n",
       "    </tr>\n",
       "    <tr>\n",
       "      <th>8</th>\n",
       "      <td>26</td>\n",
       "      <td>8.5</td>\n",
       "      <td>Rhonda</td>\n",
       "    </tr>\n",
       "    <tr>\n",
       "      <th>9</th>\n",
       "      <td>74</td>\n",
       "      <td>14.5</td>\n",
       "      <td>Giovanni</td>\n",
       "    </tr>\n",
       "    <tr>\n",
       "      <th>10</th>\n",
       "      <td>82</td>\n",
       "      <td>15.5</td>\n",
       "      <td>Francesca</td>\n",
       "    </tr>\n",
       "    <tr>\n",
       "      <th>11</th>\n",
       "      <td>62</td>\n",
       "      <td>13.75</td>\n",
       "      <td>Rajab</td>\n",
       "    </tr>\n",
       "    <tr>\n",
       "      <th>12</th>\n",
       "      <td>37</td>\n",
       "      <td>9.0</td>\n",
       "      <td>Naiyana</td>\n",
       "    </tr>\n",
       "    <tr>\n",
       "      <th>13</th>\n",
       "      <td>15</td>\n",
       "      <td>8.0</td>\n",
       "      <td>Kian</td>\n",
       "    </tr>\n",
       "    <tr>\n",
       "      <th>14</th>\n",
       "      <td>70</td>\n",
       "      <td>15.5</td>\n",
       "      <td>Jenny</td>\n",
       "    </tr>\n",
       "    <tr>\n",
       "      <th>15</th>\n",
       "      <td>27</td>\n",
       "      <td>8.0</td>\n",
       "      <td>Jakeem</td>\n",
       "    </tr>\n",
       "    <tr>\n",
       "      <th>16</th>\n",
       "      <td>36</td>\n",
       "      <td>9.0</td>\n",
       "      <td>Helena</td>\n",
       "    </tr>\n",
       "    <tr>\n",
       "      <th>17</th>\n",
       "      <td>35</td>\n",
       "      <td>6.0</td>\n",
       "      <td>Ismat</td>\n",
       "    </tr>\n",
       "    <tr>\n",
       "      <th>18</th>\n",
       "      <td>48</td>\n",
       "      <td>10.0</td>\n",
       "      <td>Anila</td>\n",
       "    </tr>\n",
       "    <tr>\n",
       "      <th>19</th>\n",
       "      <td>52</td>\n",
       "      <td>12.0</td>\n",
       "      <td>Skye</td>\n",
       "    </tr>\n",
       "    <tr>\n",
       "      <th>20</th>\n",
       "      <td>63</td>\n",
       "      <td>12.5</td>\n",
       "      <td>Daniel</td>\n",
       "    </tr>\n",
       "    <tr>\n",
       "      <th>21</th>\n",
       "      <td>64</td>\n",
       "      <td>12.0</td>\n",
       "      <td>Aisha</td>\n",
       "    </tr>\n",
       "  </tbody>\n",
       "</table>\n",
       "</div>"
      ],
      "text/plain": [
       "   grades study_hour       name\n",
       "0      50       10.0        Dan\n",
       "1      50       11.5      Joann\n",
       "2      47        9.0      Pedro\n",
       "3      97       16.0      Rosie\n",
       "4      49       9.25      Ethan\n",
       "5       3        1.0      Vicky\n",
       "6      53       11.5   Frederic\n",
       "7      42        9.0     Jimmie\n",
       "8      26        8.5     Rhonda\n",
       "9      74       14.5   Giovanni\n",
       "10     82       15.5  Francesca\n",
       "11     62      13.75      Rajab\n",
       "12     37        9.0    Naiyana\n",
       "13     15        8.0       Kian\n",
       "14     70       15.5      Jenny\n",
       "15     27        8.0     Jakeem\n",
       "16     36        9.0     Helena\n",
       "17     35        6.0      Ismat\n",
       "18     48       10.0      Anila\n",
       "19     52       12.0       Skye\n",
       "20     63       12.5     Daniel\n",
       "21     64       12.0      Aisha"
      ]
     },
     "execution_count": 75,
     "metadata": {},
     "output_type": "execute_result"
    }
   ],
   "source": [
    "cols = ['grades','study_hour','name']\n",
    "df_students.columns = cols\n",
    "df_students"
   ]
  },
  {
   "cell_type": "code",
   "execution_count": 76,
   "id": "09dd271a",
   "metadata": {},
   "outputs": [
    {
     "data": {
      "text/html": [
       "<div>\n",
       "<style scoped>\n",
       "    .dataframe tbody tr th:only-of-type {\n",
       "        vertical-align: middle;\n",
       "    }\n",
       "\n",
       "    .dataframe tbody tr th {\n",
       "        vertical-align: top;\n",
       "    }\n",
       "\n",
       "    .dataframe thead th {\n",
       "        text-align: right;\n",
       "    }\n",
       "</style>\n",
       "<table border=\"1\" class=\"dataframe\">\n",
       "  <thead>\n",
       "    <tr style=\"text-align: right;\">\n",
       "      <th></th>\n",
       "      <th>grades</th>\n",
       "      <th>study_hour</th>\n",
       "      <th>name</th>\n",
       "    </tr>\n",
       "  </thead>\n",
       "  <tbody>\n",
       "    <tr>\n",
       "      <th>0</th>\n",
       "      <td>50</td>\n",
       "      <td>10.0</td>\n",
       "      <td>Dan</td>\n",
       "    </tr>\n",
       "    <tr>\n",
       "      <th>1</th>\n",
       "      <td>50</td>\n",
       "      <td>11.5</td>\n",
       "      <td>Joann</td>\n",
       "    </tr>\n",
       "    <tr>\n",
       "      <th>2</th>\n",
       "      <td>47</td>\n",
       "      <td>9.0</td>\n",
       "      <td>Pedro</td>\n",
       "    </tr>\n",
       "    <tr>\n",
       "      <th>3</th>\n",
       "      <td>97</td>\n",
       "      <td>16.0</td>\n",
       "      <td>Rosie</td>\n",
       "    </tr>\n",
       "    <tr>\n",
       "      <th>4</th>\n",
       "      <td>49</td>\n",
       "      <td>9.25</td>\n",
       "      <td>Ethan</td>\n",
       "    </tr>\n",
       "    <tr>\n",
       "      <th>5</th>\n",
       "      <td>3</td>\n",
       "      <td>1.0</td>\n",
       "      <td>Vicky</td>\n",
       "    </tr>\n",
       "  </tbody>\n",
       "</table>\n",
       "</div>"
      ],
      "text/plain": [
       "  grades study_hour   name\n",
       "0     50       10.0    Dan\n",
       "1     50       11.5  Joann\n",
       "2     47        9.0  Pedro\n",
       "3     97       16.0  Rosie\n",
       "4     49       9.25  Ethan\n",
       "5      3        1.0  Vicky"
      ]
     },
     "execution_count": 76,
     "metadata": {},
     "output_type": "execute_result"
    }
   ],
   "source": [
    "df_students.loc[0:5]"
   ]
  },
  {
   "cell_type": "code",
   "execution_count": 77,
   "id": "8e59c6bb",
   "metadata": {},
   "outputs": [
    {
     "data": {
      "text/html": [
       "<div>\n",
       "<style scoped>\n",
       "    .dataframe tbody tr th:only-of-type {\n",
       "        vertical-align: middle;\n",
       "    }\n",
       "\n",
       "    .dataframe tbody tr th {\n",
       "        vertical-align: top;\n",
       "    }\n",
       "\n",
       "    .dataframe thead th {\n",
       "        text-align: right;\n",
       "    }\n",
       "</style>\n",
       "<table border=\"1\" class=\"dataframe\">\n",
       "  <thead>\n",
       "    <tr style=\"text-align: right;\">\n",
       "      <th></th>\n",
       "      <th>grades</th>\n",
       "      <th>study_hour</th>\n",
       "      <th>name</th>\n",
       "    </tr>\n",
       "  </thead>\n",
       "  <tbody>\n",
       "    <tr>\n",
       "      <th>0</th>\n",
       "      <td>50</td>\n",
       "      <td>10.0</td>\n",
       "      <td>Dan</td>\n",
       "    </tr>\n",
       "    <tr>\n",
       "      <th>1</th>\n",
       "      <td>50</td>\n",
       "      <td>11.5</td>\n",
       "      <td>Joann</td>\n",
       "    </tr>\n",
       "    <tr>\n",
       "      <th>2</th>\n",
       "      <td>47</td>\n",
       "      <td>9.0</td>\n",
       "      <td>Pedro</td>\n",
       "    </tr>\n",
       "    <tr>\n",
       "      <th>3</th>\n",
       "      <td>97</td>\n",
       "      <td>16.0</td>\n",
       "      <td>Rosie</td>\n",
       "    </tr>\n",
       "    <tr>\n",
       "      <th>4</th>\n",
       "      <td>49</td>\n",
       "      <td>9.25</td>\n",
       "      <td>Ethan</td>\n",
       "    </tr>\n",
       "  </tbody>\n",
       "</table>\n",
       "</div>"
      ],
      "text/plain": [
       "  grades study_hour   name\n",
       "0     50       10.0    Dan\n",
       "1     50       11.5  Joann\n",
       "2     47        9.0  Pedro\n",
       "3     97       16.0  Rosie\n",
       "4     49       9.25  Ethan"
      ]
     },
     "execution_count": 77,
     "metadata": {},
     "output_type": "execute_result"
    }
   ],
   "source": [
    "df_students.iloc[0:5]"
   ]
  },
  {
   "cell_type": "code",
   "execution_count": 78,
   "id": "d98526d1",
   "metadata": {},
   "outputs": [
    {
     "data": {
      "text/plain": [
       "study_hour    10.0\n",
       "name           Dan\n",
       "Name: 0, dtype: object"
      ]
     },
     "execution_count": 78,
     "metadata": {},
     "output_type": "execute_result"
    }
   ],
   "source": [
    "df_students.iloc[0,[1,2]]"
   ]
  },
  {
   "cell_type": "code",
   "execution_count": 79,
   "id": "1527c928",
   "metadata": {},
   "outputs": [
    {
     "data": {
      "text/plain": [
       "'50'"
      ]
     },
     "execution_count": 79,
     "metadata": {},
     "output_type": "execute_result"
    }
   ],
   "source": [
    "df_students.loc[0,'grades']"
   ]
  },
  {
   "cell_type": "code",
   "execution_count": 80,
   "id": "c60611b7",
   "metadata": {},
   "outputs": [
    {
     "data": {
      "text/html": [
       "<div>\n",
       "<style scoped>\n",
       "    .dataframe tbody tr th:only-of-type {\n",
       "        vertical-align: middle;\n",
       "    }\n",
       "\n",
       "    .dataframe tbody tr th {\n",
       "        vertical-align: top;\n",
       "    }\n",
       "\n",
       "    .dataframe thead th {\n",
       "        text-align: right;\n",
       "    }\n",
       "</style>\n",
       "<table border=\"1\" class=\"dataframe\">\n",
       "  <thead>\n",
       "    <tr style=\"text-align: right;\">\n",
       "      <th></th>\n",
       "      <th>grades</th>\n",
       "      <th>study_hour</th>\n",
       "      <th>name</th>\n",
       "    </tr>\n",
       "  </thead>\n",
       "  <tbody>\n",
       "    <tr>\n",
       "      <th>21</th>\n",
       "      <td>64</td>\n",
       "      <td>12.0</td>\n",
       "      <td>Aisha</td>\n",
       "    </tr>\n",
       "  </tbody>\n",
       "</table>\n",
       "</div>"
      ],
      "text/plain": [
       "   grades study_hour   name\n",
       "21     64       12.0  Aisha"
      ]
     },
     "execution_count": 80,
     "metadata": {},
     "output_type": "execute_result"
    }
   ],
   "source": [
    "#Different ways to filter a dataframe\n",
    "\n",
    "# df_students.loc[df_students['name']== 'Aisha']\n",
    "\n",
    "# df_students[df_students['name'] =='Aisha']\n",
    "\n",
    "# df_students.query('name == \"Aisha\"')\n",
    "\n",
    "df_students[df_students.name == 'Aisha']"
   ]
  },
  {
   "cell_type": "markdown",
   "id": "2b393c92",
   "metadata": {},
   "source": [
    "Handling missing Values"
   ]
  },
  {
   "cell_type": "code",
   "execution_count": 81,
   "id": "1785510f",
   "metadata": {},
   "outputs": [
    {
     "data": {
      "text/plain": [
       "grades        0\n",
       "study_hour    0\n",
       "name          0\n",
       "dtype: int64"
      ]
     },
     "execution_count": 81,
     "metadata": {},
     "output_type": "execute_result"
    }
   ],
   "source": [
    "#gets the sum of mikssing values\n",
    "df_students.isnull().sum()"
   ]
  },
  {
   "cell_type": "code",
   "execution_count": 82,
   "id": "196f9fc1",
   "metadata": {},
   "outputs": [
    {
     "data": {
      "text/html": [
       "<div>\n",
       "<style scoped>\n",
       "    .dataframe tbody tr th:only-of-type {\n",
       "        vertical-align: middle;\n",
       "    }\n",
       "\n",
       "    .dataframe tbody tr th {\n",
       "        vertical-align: top;\n",
       "    }\n",
       "\n",
       "    .dataframe thead th {\n",
       "        text-align: right;\n",
       "    }\n",
       "</style>\n",
       "<table border=\"1\" class=\"dataframe\">\n",
       "  <thead>\n",
       "    <tr style=\"text-align: right;\">\n",
       "      <th></th>\n",
       "      <th>grades</th>\n",
       "      <th>study_hour</th>\n",
       "      <th>name</th>\n",
       "    </tr>\n",
       "  </thead>\n",
       "  <tbody>\n",
       "  </tbody>\n",
       "</table>\n",
       "</div>"
      ],
      "text/plain": [
       "Empty DataFrame\n",
       "Columns: [grades, study_hour, name]\n",
       "Index: []"
      ]
     },
     "execution_count": 82,
     "metadata": {},
     "output_type": "execute_result"
    }
   ],
   "source": [
    "#filters the missing values from the dataframe\n",
    "df_students[df_students.isnull().any(axis = 1)]"
   ]
  },
  {
   "cell_type": "code",
   "execution_count": 83,
   "id": "f90b7d8a",
   "metadata": {},
   "outputs": [
    {
     "name": "stdout",
     "output_type": "stream",
     "text": [
      "<class 'pandas.core.frame.DataFrame'>\n",
      "RangeIndex: 22 entries, 0 to 21\n",
      "Data columns (total 3 columns):\n",
      " #   Column      Non-Null Count  Dtype \n",
      "---  ------      --------------  ----- \n",
      " 0   grades      22 non-null     object\n",
      " 1   study_hour  22 non-null     object\n",
      " 2   name        22 non-null     object\n",
      "dtypes: object(3)\n",
      "memory usage: 656.0+ bytes\n"
     ]
    }
   ],
   "source": [
    "df_students.info()"
   ]
  },
  {
   "cell_type": "code",
   "execution_count": 84,
   "id": "353d9e4f",
   "metadata": {},
   "outputs": [],
   "source": [
    "df_students.study_hour = pd.to_numeric(df_students.study_hour)"
   ]
  },
  {
   "cell_type": "code",
   "execution_count": 85,
   "id": "facd5da9",
   "metadata": {},
   "outputs": [],
   "source": [
    "df_students.grades = pd.to_numeric(df_students.grades)"
   ]
  },
  {
   "cell_type": "code",
   "execution_count": 86,
   "id": "ea8ebad8",
   "metadata": {},
   "outputs": [
    {
     "name": "stdout",
     "output_type": "stream",
     "text": [
      "<class 'pandas.core.frame.DataFrame'>\n",
      "RangeIndex: 22 entries, 0 to 21\n",
      "Data columns (total 3 columns):\n",
      " #   Column      Non-Null Count  Dtype  \n",
      "---  ------      --------------  -----  \n",
      " 0   grades      22 non-null     int64  \n",
      " 1   study_hour  22 non-null     float64\n",
      " 2   name        22 non-null     object \n",
      "dtypes: float64(1), int64(1), object(1)\n",
      "memory usage: 656.0+ bytes\n"
     ]
    }
   ],
   "source": [
    "df_students.info()"
   ]
  },
  {
   "cell_type": "markdown",
   "id": "8e03bd76",
   "metadata": {},
   "source": [
    "fill missing values by replacing with mean of the values"
   ]
  },
  {
   "cell_type": "code",
   "execution_count": 87,
   "id": "5fdf21bf",
   "metadata": {},
   "outputs": [],
   "source": [
    "df_students.study_hour = df_students.study_hour.fillna(df_students.study_hour.mean())"
   ]
  },
  {
   "cell_type": "markdown",
   "id": "a2f69e78",
   "metadata": {},
   "source": [
    "alternatively, you can drop the nulls to ensure the data you are working with is absolutely correct"
   ]
  },
  {
   "cell_type": "code",
   "execution_count": 88,
   "id": "da5914c4",
   "metadata": {},
   "outputs": [],
   "source": [
    "df_students = df_students.dropna(axis = 0, how = 'any')"
   ]
  },
  {
   "cell_type": "code",
   "execution_count": 89,
   "id": "de980ecc",
   "metadata": {},
   "outputs": [
    {
     "name": "stdout",
     "output_type": "stream",
     "text": [
      "Average study hour 10.52 and average grades 49.18\n"
     ]
    }
   ],
   "source": [
    "meanstudy = df_students.study_hour.mean()\n",
    "meangrade = df_students.grades.mean()\n",
    "\n",
    "print('Average study hour {:.2f} and average grades {:.2f}'.format(meanstudy, meangrade))"
   ]
  },
  {
   "cell_type": "markdown",
   "id": "891f7a76",
   "metadata": {},
   "source": [
    "Filter students who studied above the mean study hours"
   ]
  },
  {
   "cell_type": "code",
   "execution_count": 90,
   "id": "f48bae0a",
   "metadata": {},
   "outputs": [
    {
     "data": {
      "text/html": [
       "<div>\n",
       "<style scoped>\n",
       "    .dataframe tbody tr th:only-of-type {\n",
       "        vertical-align: middle;\n",
       "    }\n",
       "\n",
       "    .dataframe tbody tr th {\n",
       "        vertical-align: top;\n",
       "    }\n",
       "\n",
       "    .dataframe thead th {\n",
       "        text-align: right;\n",
       "    }\n",
       "</style>\n",
       "<table border=\"1\" class=\"dataframe\">\n",
       "  <thead>\n",
       "    <tr style=\"text-align: right;\">\n",
       "      <th></th>\n",
       "      <th>grades</th>\n",
       "      <th>study_hour</th>\n",
       "      <th>name</th>\n",
       "    </tr>\n",
       "  </thead>\n",
       "  <tbody>\n",
       "    <tr>\n",
       "      <th>1</th>\n",
       "      <td>50</td>\n",
       "      <td>11.50</td>\n",
       "      <td>Joann</td>\n",
       "    </tr>\n",
       "    <tr>\n",
       "      <th>3</th>\n",
       "      <td>97</td>\n",
       "      <td>16.00</td>\n",
       "      <td>Rosie</td>\n",
       "    </tr>\n",
       "    <tr>\n",
       "      <th>6</th>\n",
       "      <td>53</td>\n",
       "      <td>11.50</td>\n",
       "      <td>Frederic</td>\n",
       "    </tr>\n",
       "    <tr>\n",
       "      <th>9</th>\n",
       "      <td>74</td>\n",
       "      <td>14.50</td>\n",
       "      <td>Giovanni</td>\n",
       "    </tr>\n",
       "    <tr>\n",
       "      <th>10</th>\n",
       "      <td>82</td>\n",
       "      <td>15.50</td>\n",
       "      <td>Francesca</td>\n",
       "    </tr>\n",
       "    <tr>\n",
       "      <th>11</th>\n",
       "      <td>62</td>\n",
       "      <td>13.75</td>\n",
       "      <td>Rajab</td>\n",
       "    </tr>\n",
       "    <tr>\n",
       "      <th>14</th>\n",
       "      <td>70</td>\n",
       "      <td>15.50</td>\n",
       "      <td>Jenny</td>\n",
       "    </tr>\n",
       "    <tr>\n",
       "      <th>19</th>\n",
       "      <td>52</td>\n",
       "      <td>12.00</td>\n",
       "      <td>Skye</td>\n",
       "    </tr>\n",
       "    <tr>\n",
       "      <th>20</th>\n",
       "      <td>63</td>\n",
       "      <td>12.50</td>\n",
       "      <td>Daniel</td>\n",
       "    </tr>\n",
       "    <tr>\n",
       "      <th>21</th>\n",
       "      <td>64</td>\n",
       "      <td>12.00</td>\n",
       "      <td>Aisha</td>\n",
       "    </tr>\n",
       "  </tbody>\n",
       "</table>\n",
       "</div>"
      ],
      "text/plain": [
       "    grades  study_hour       name\n",
       "1       50       11.50      Joann\n",
       "3       97       16.00      Rosie\n",
       "6       53       11.50   Frederic\n",
       "9       74       14.50   Giovanni\n",
       "10      82       15.50  Francesca\n",
       "11      62       13.75      Rajab\n",
       "14      70       15.50      Jenny\n",
       "19      52       12.00       Skye\n",
       "20      63       12.50     Daniel\n",
       "21      64       12.00      Aisha"
      ]
     },
     "execution_count": 90,
     "metadata": {},
     "output_type": "execute_result"
    }
   ],
   "source": [
    "df_students[df_students.study_hour > meanstudy]"
   ]
  },
  {
   "cell_type": "markdown",
   "id": "d634e248",
   "metadata": {},
   "source": [
    "Get the mean grade for students who studied above the mean study hour\n"
   ]
  },
  {
   "cell_type": "code",
   "execution_count": 91,
   "id": "2e0466b3",
   "metadata": {},
   "outputs": [
    {
     "data": {
      "text/plain": [
       "66.7"
      ]
     },
     "execution_count": 91,
     "metadata": {},
     "output_type": "execute_result"
    }
   ],
   "source": [
    "df_students[df_students.study_hour > meanstudy].grades.mean()"
   ]
  },
  {
   "cell_type": "markdown",
   "id": "19152cf9",
   "metadata": {},
   "source": [
    "Lets assume the passing grade is 60, we will add another column indicating whether the student passed or not"
   ]
  },
  {
   "cell_type": "code",
   "execution_count": 92,
   "id": "de0c4d4e",
   "metadata": {},
   "outputs": [],
   "source": [
    "passes = pd.Series(df_students.grades >= 60)\n",
    "\n",
    "df_students  = pd.concat([df_students, passes.rename('pass')], axis = 1)\n"
   ]
  },
  {
   "cell_type": "code",
   "execution_count": 93,
   "id": "7fce73f0",
   "metadata": {},
   "outputs": [
    {
     "data": {
      "text/html": [
       "<div>\n",
       "<style scoped>\n",
       "    .dataframe tbody tr th:only-of-type {\n",
       "        vertical-align: middle;\n",
       "    }\n",
       "\n",
       "    .dataframe tbody tr th {\n",
       "        vertical-align: top;\n",
       "    }\n",
       "\n",
       "    .dataframe thead th {\n",
       "        text-align: right;\n",
       "    }\n",
       "</style>\n",
       "<table border=\"1\" class=\"dataframe\">\n",
       "  <thead>\n",
       "    <tr style=\"text-align: right;\">\n",
       "      <th></th>\n",
       "      <th>grades</th>\n",
       "      <th>study_hour</th>\n",
       "      <th>name</th>\n",
       "      <th>pass</th>\n",
       "    </tr>\n",
       "  </thead>\n",
       "  <tbody>\n",
       "    <tr>\n",
       "      <th>0</th>\n",
       "      <td>50</td>\n",
       "      <td>10.00</td>\n",
       "      <td>Dan</td>\n",
       "      <td>False</td>\n",
       "    </tr>\n",
       "    <tr>\n",
       "      <th>1</th>\n",
       "      <td>50</td>\n",
       "      <td>11.50</td>\n",
       "      <td>Joann</td>\n",
       "      <td>False</td>\n",
       "    </tr>\n",
       "    <tr>\n",
       "      <th>2</th>\n",
       "      <td>47</td>\n",
       "      <td>9.00</td>\n",
       "      <td>Pedro</td>\n",
       "      <td>False</td>\n",
       "    </tr>\n",
       "    <tr>\n",
       "      <th>3</th>\n",
       "      <td>97</td>\n",
       "      <td>16.00</td>\n",
       "      <td>Rosie</td>\n",
       "      <td>True</td>\n",
       "    </tr>\n",
       "    <tr>\n",
       "      <th>4</th>\n",
       "      <td>49</td>\n",
       "      <td>9.25</td>\n",
       "      <td>Ethan</td>\n",
       "      <td>False</td>\n",
       "    </tr>\n",
       "    <tr>\n",
       "      <th>5</th>\n",
       "      <td>3</td>\n",
       "      <td>1.00</td>\n",
       "      <td>Vicky</td>\n",
       "      <td>False</td>\n",
       "    </tr>\n",
       "    <tr>\n",
       "      <th>6</th>\n",
       "      <td>53</td>\n",
       "      <td>11.50</td>\n",
       "      <td>Frederic</td>\n",
       "      <td>False</td>\n",
       "    </tr>\n",
       "    <tr>\n",
       "      <th>7</th>\n",
       "      <td>42</td>\n",
       "      <td>9.00</td>\n",
       "      <td>Jimmie</td>\n",
       "      <td>False</td>\n",
       "    </tr>\n",
       "    <tr>\n",
       "      <th>8</th>\n",
       "      <td>26</td>\n",
       "      <td>8.50</td>\n",
       "      <td>Rhonda</td>\n",
       "      <td>False</td>\n",
       "    </tr>\n",
       "    <tr>\n",
       "      <th>9</th>\n",
       "      <td>74</td>\n",
       "      <td>14.50</td>\n",
       "      <td>Giovanni</td>\n",
       "      <td>True</td>\n",
       "    </tr>\n",
       "    <tr>\n",
       "      <th>10</th>\n",
       "      <td>82</td>\n",
       "      <td>15.50</td>\n",
       "      <td>Francesca</td>\n",
       "      <td>True</td>\n",
       "    </tr>\n",
       "    <tr>\n",
       "      <th>11</th>\n",
       "      <td>62</td>\n",
       "      <td>13.75</td>\n",
       "      <td>Rajab</td>\n",
       "      <td>True</td>\n",
       "    </tr>\n",
       "    <tr>\n",
       "      <th>12</th>\n",
       "      <td>37</td>\n",
       "      <td>9.00</td>\n",
       "      <td>Naiyana</td>\n",
       "      <td>False</td>\n",
       "    </tr>\n",
       "    <tr>\n",
       "      <th>13</th>\n",
       "      <td>15</td>\n",
       "      <td>8.00</td>\n",
       "      <td>Kian</td>\n",
       "      <td>False</td>\n",
       "    </tr>\n",
       "    <tr>\n",
       "      <th>14</th>\n",
       "      <td>70</td>\n",
       "      <td>15.50</td>\n",
       "      <td>Jenny</td>\n",
       "      <td>True</td>\n",
       "    </tr>\n",
       "    <tr>\n",
       "      <th>15</th>\n",
       "      <td>27</td>\n",
       "      <td>8.00</td>\n",
       "      <td>Jakeem</td>\n",
       "      <td>False</td>\n",
       "    </tr>\n",
       "    <tr>\n",
       "      <th>16</th>\n",
       "      <td>36</td>\n",
       "      <td>9.00</td>\n",
       "      <td>Helena</td>\n",
       "      <td>False</td>\n",
       "    </tr>\n",
       "    <tr>\n",
       "      <th>17</th>\n",
       "      <td>35</td>\n",
       "      <td>6.00</td>\n",
       "      <td>Ismat</td>\n",
       "      <td>False</td>\n",
       "    </tr>\n",
       "    <tr>\n",
       "      <th>18</th>\n",
       "      <td>48</td>\n",
       "      <td>10.00</td>\n",
       "      <td>Anila</td>\n",
       "      <td>False</td>\n",
       "    </tr>\n",
       "    <tr>\n",
       "      <th>19</th>\n",
       "      <td>52</td>\n",
       "      <td>12.00</td>\n",
       "      <td>Skye</td>\n",
       "      <td>False</td>\n",
       "    </tr>\n",
       "    <tr>\n",
       "      <th>20</th>\n",
       "      <td>63</td>\n",
       "      <td>12.50</td>\n",
       "      <td>Daniel</td>\n",
       "      <td>True</td>\n",
       "    </tr>\n",
       "    <tr>\n",
       "      <th>21</th>\n",
       "      <td>64</td>\n",
       "      <td>12.00</td>\n",
       "      <td>Aisha</td>\n",
       "      <td>True</td>\n",
       "    </tr>\n",
       "  </tbody>\n",
       "</table>\n",
       "</div>"
      ],
      "text/plain": [
       "    grades  study_hour       name   pass\n",
       "0       50       10.00        Dan  False\n",
       "1       50       11.50      Joann  False\n",
       "2       47        9.00      Pedro  False\n",
       "3       97       16.00      Rosie   True\n",
       "4       49        9.25      Ethan  False\n",
       "5        3        1.00      Vicky  False\n",
       "6       53       11.50   Frederic  False\n",
       "7       42        9.00     Jimmie  False\n",
       "8       26        8.50     Rhonda  False\n",
       "9       74       14.50   Giovanni   True\n",
       "10      82       15.50  Francesca   True\n",
       "11      62       13.75      Rajab   True\n",
       "12      37        9.00    Naiyana  False\n",
       "13      15        8.00       Kian  False\n",
       "14      70       15.50      Jenny   True\n",
       "15      27        8.00     Jakeem  False\n",
       "16      36        9.00     Helena  False\n",
       "17      35        6.00      Ismat  False\n",
       "18      48       10.00      Anila  False\n",
       "19      52       12.00       Skye  False\n",
       "20      63       12.50     Daniel   True\n",
       "21      64       12.00      Aisha   True"
      ]
     },
     "execution_count": 93,
     "metadata": {},
     "output_type": "execute_result"
    }
   ],
   "source": [
    "df_students"
   ]
  },
  {
   "cell_type": "markdown",
   "id": "6e7c1db1",
   "metadata": {},
   "source": [
    "Lets get the count of students based on whether the passed or not"
   ]
  },
  {
   "cell_type": "code",
   "execution_count": 94,
   "id": "9400d64e",
   "metadata": {},
   "outputs": [
    {
     "data": {
      "text/plain": [
       "pass\n",
       "False    15\n",
       "True      7\n",
       "Name: name, dtype: int64"
      ]
     },
     "execution_count": 94,
     "metadata": {},
     "output_type": "execute_result"
    }
   ],
   "source": [
    "df_students.groupby('pass').name.count()"
   ]
  },
  {
   "cell_type": "markdown",
   "id": "3f68ec4a",
   "metadata": {},
   "source": [
    "Lets get the mean study hour and grade for both who passed or failed"
   ]
  },
  {
   "cell_type": "code",
   "execution_count": 95,
   "id": "9cc6bb6a",
   "metadata": {
    "scrolled": true
   },
   "outputs": [
    {
     "name": "stderr",
     "output_type": "stream",
     "text": [
      "C:\\Users\\User\\AppData\\Local\\Temp\\ipykernel_17480\\1975986601.py:1: FutureWarning: Indexing with multiple keys (implicitly converted to a tuple of keys) will be deprecated, use a list instead.\n",
      "  df_students.groupby('pass')['study_hour', 'grades'].mean()\n"
     ]
    },
    {
     "data": {
      "text/html": [
       "<div>\n",
       "<style scoped>\n",
       "    .dataframe tbody tr th:only-of-type {\n",
       "        vertical-align: middle;\n",
       "    }\n",
       "\n",
       "    .dataframe tbody tr th {\n",
       "        vertical-align: top;\n",
       "    }\n",
       "\n",
       "    .dataframe thead th {\n",
       "        text-align: right;\n",
       "    }\n",
       "</style>\n",
       "<table border=\"1\" class=\"dataframe\">\n",
       "  <thead>\n",
       "    <tr style=\"text-align: right;\">\n",
       "      <th></th>\n",
       "      <th>study_hour</th>\n",
       "      <th>grades</th>\n",
       "    </tr>\n",
       "    <tr>\n",
       "      <th>pass</th>\n",
       "      <th></th>\n",
       "      <th></th>\n",
       "    </tr>\n",
       "  </thead>\n",
       "  <tbody>\n",
       "    <tr>\n",
       "      <th>False</th>\n",
       "      <td>8.783333</td>\n",
       "      <td>38.000000</td>\n",
       "    </tr>\n",
       "    <tr>\n",
       "      <th>True</th>\n",
       "      <td>14.250000</td>\n",
       "      <td>73.142857</td>\n",
       "    </tr>\n",
       "  </tbody>\n",
       "</table>\n",
       "</div>"
      ],
      "text/plain": [
       "       study_hour     grades\n",
       "pass                        \n",
       "False    8.783333  38.000000\n",
       "True    14.250000  73.142857"
      ]
     },
     "execution_count": 95,
     "metadata": {},
     "output_type": "execute_result"
    }
   ],
   "source": [
    "df_students.groupby('pass')['study_hour', 'grades'].mean()"
   ]
  },
  {
   "cell_type": "code",
   "execution_count": 96,
   "id": "4fb07ed9",
   "metadata": {},
   "outputs": [
    {
     "data": {
      "text/html": [
       "<div>\n",
       "<style scoped>\n",
       "    .dataframe tbody tr th:only-of-type {\n",
       "        vertical-align: middle;\n",
       "    }\n",
       "\n",
       "    .dataframe tbody tr th {\n",
       "        vertical-align: top;\n",
       "    }\n",
       "\n",
       "    .dataframe thead th {\n",
       "        text-align: right;\n",
       "    }\n",
       "</style>\n",
       "<table border=\"1\" class=\"dataframe\">\n",
       "  <thead>\n",
       "    <tr style=\"text-align: right;\">\n",
       "      <th></th>\n",
       "      <th>grades</th>\n",
       "      <th>study_hour</th>\n",
       "      <th>name</th>\n",
       "      <th>pass</th>\n",
       "    </tr>\n",
       "  </thead>\n",
       "  <tbody>\n",
       "    <tr>\n",
       "      <th>3</th>\n",
       "      <td>97</td>\n",
       "      <td>16.00</td>\n",
       "      <td>Rosie</td>\n",
       "      <td>True</td>\n",
       "    </tr>\n",
       "    <tr>\n",
       "      <th>10</th>\n",
       "      <td>82</td>\n",
       "      <td>15.50</td>\n",
       "      <td>Francesca</td>\n",
       "      <td>True</td>\n",
       "    </tr>\n",
       "    <tr>\n",
       "      <th>9</th>\n",
       "      <td>74</td>\n",
       "      <td>14.50</td>\n",
       "      <td>Giovanni</td>\n",
       "      <td>True</td>\n",
       "    </tr>\n",
       "    <tr>\n",
       "      <th>14</th>\n",
       "      <td>70</td>\n",
       "      <td>15.50</td>\n",
       "      <td>Jenny</td>\n",
       "      <td>True</td>\n",
       "    </tr>\n",
       "    <tr>\n",
       "      <th>21</th>\n",
       "      <td>64</td>\n",
       "      <td>12.00</td>\n",
       "      <td>Aisha</td>\n",
       "      <td>True</td>\n",
       "    </tr>\n",
       "    <tr>\n",
       "      <th>20</th>\n",
       "      <td>63</td>\n",
       "      <td>12.50</td>\n",
       "      <td>Daniel</td>\n",
       "      <td>True</td>\n",
       "    </tr>\n",
       "    <tr>\n",
       "      <th>11</th>\n",
       "      <td>62</td>\n",
       "      <td>13.75</td>\n",
       "      <td>Rajab</td>\n",
       "      <td>True</td>\n",
       "    </tr>\n",
       "    <tr>\n",
       "      <th>6</th>\n",
       "      <td>53</td>\n",
       "      <td>11.50</td>\n",
       "      <td>Frederic</td>\n",
       "      <td>False</td>\n",
       "    </tr>\n",
       "    <tr>\n",
       "      <th>19</th>\n",
       "      <td>52</td>\n",
       "      <td>12.00</td>\n",
       "      <td>Skye</td>\n",
       "      <td>False</td>\n",
       "    </tr>\n",
       "    <tr>\n",
       "      <th>1</th>\n",
       "      <td>50</td>\n",
       "      <td>11.50</td>\n",
       "      <td>Joann</td>\n",
       "      <td>False</td>\n",
       "    </tr>\n",
       "    <tr>\n",
       "      <th>0</th>\n",
       "      <td>50</td>\n",
       "      <td>10.00</td>\n",
       "      <td>Dan</td>\n",
       "      <td>False</td>\n",
       "    </tr>\n",
       "    <tr>\n",
       "      <th>4</th>\n",
       "      <td>49</td>\n",
       "      <td>9.25</td>\n",
       "      <td>Ethan</td>\n",
       "      <td>False</td>\n",
       "    </tr>\n",
       "    <tr>\n",
       "      <th>18</th>\n",
       "      <td>48</td>\n",
       "      <td>10.00</td>\n",
       "      <td>Anila</td>\n",
       "      <td>False</td>\n",
       "    </tr>\n",
       "    <tr>\n",
       "      <th>2</th>\n",
       "      <td>47</td>\n",
       "      <td>9.00</td>\n",
       "      <td>Pedro</td>\n",
       "      <td>False</td>\n",
       "    </tr>\n",
       "    <tr>\n",
       "      <th>7</th>\n",
       "      <td>42</td>\n",
       "      <td>9.00</td>\n",
       "      <td>Jimmie</td>\n",
       "      <td>False</td>\n",
       "    </tr>\n",
       "    <tr>\n",
       "      <th>12</th>\n",
       "      <td>37</td>\n",
       "      <td>9.00</td>\n",
       "      <td>Naiyana</td>\n",
       "      <td>False</td>\n",
       "    </tr>\n",
       "    <tr>\n",
       "      <th>16</th>\n",
       "      <td>36</td>\n",
       "      <td>9.00</td>\n",
       "      <td>Helena</td>\n",
       "      <td>False</td>\n",
       "    </tr>\n",
       "    <tr>\n",
       "      <th>17</th>\n",
       "      <td>35</td>\n",
       "      <td>6.00</td>\n",
       "      <td>Ismat</td>\n",
       "      <td>False</td>\n",
       "    </tr>\n",
       "    <tr>\n",
       "      <th>15</th>\n",
       "      <td>27</td>\n",
       "      <td>8.00</td>\n",
       "      <td>Jakeem</td>\n",
       "      <td>False</td>\n",
       "    </tr>\n",
       "    <tr>\n",
       "      <th>8</th>\n",
       "      <td>26</td>\n",
       "      <td>8.50</td>\n",
       "      <td>Rhonda</td>\n",
       "      <td>False</td>\n",
       "    </tr>\n",
       "    <tr>\n",
       "      <th>13</th>\n",
       "      <td>15</td>\n",
       "      <td>8.00</td>\n",
       "      <td>Kian</td>\n",
       "      <td>False</td>\n",
       "    </tr>\n",
       "    <tr>\n",
       "      <th>5</th>\n",
       "      <td>3</td>\n",
       "      <td>1.00</td>\n",
       "      <td>Vicky</td>\n",
       "      <td>False</td>\n",
       "    </tr>\n",
       "  </tbody>\n",
       "</table>\n",
       "</div>"
      ],
      "text/plain": [
       "    grades  study_hour       name   pass\n",
       "3       97       16.00      Rosie   True\n",
       "10      82       15.50  Francesca   True\n",
       "9       74       14.50   Giovanni   True\n",
       "14      70       15.50      Jenny   True\n",
       "21      64       12.00      Aisha   True\n",
       "20      63       12.50     Daniel   True\n",
       "11      62       13.75      Rajab   True\n",
       "6       53       11.50   Frederic  False\n",
       "19      52       12.00       Skye  False\n",
       "1       50       11.50      Joann  False\n",
       "0       50       10.00        Dan  False\n",
       "4       49        9.25      Ethan  False\n",
       "18      48       10.00      Anila  False\n",
       "2       47        9.00      Pedro  False\n",
       "7       42        9.00     Jimmie  False\n",
       "12      37        9.00    Naiyana  False\n",
       "16      36        9.00     Helena  False\n",
       "17      35        6.00      Ismat  False\n",
       "15      27        8.00     Jakeem  False\n",
       "8       26        8.50     Rhonda  False\n",
       "13      15        8.00       Kian  False\n",
       "5        3        1.00      Vicky  False"
      ]
     },
     "execution_count": 96,
     "metadata": {},
     "output_type": "execute_result"
    }
   ],
   "source": [
    "df_students = df_students.sort_values('grades', ascending = False)\n",
    "\n",
    "df_students"
   ]
  },
  {
   "cell_type": "markdown",
   "id": "3cee76e2",
   "metadata": {},
   "source": [
    "### Visualize the data"
   ]
  },
  {
   "cell_type": "markdown",
   "id": "732440d2",
   "metadata": {},
   "source": [
    "We visualize the name vs grade"
   ]
  },
  {
   "cell_type": "code",
   "execution_count": 97,
   "id": "07cd33ad",
   "metadata": {},
   "outputs": [
    {
     "data": {
      "image/png": "[encoded data removed]",
      "text/plain": [
       "<Figure size 720x432 with 1 Axes>"
      ]
     },
     "metadata": {
      "needs_background": "light"
     },
     "output_type": "display_data"
    }
   ],
   "source": [
    "#define the chart size\n",
    "plt.figure(figsize = (10,6))\n",
    "\n",
    "plt.bar(df_students.name, height = df_students.grades, color = 'orange')\n",
    "\n",
    "plt.title('Student Grades')\n",
    "plt.grid(color = '#95a5a6', linestyle = '--', linewidth = 2, axis = 'y', alpha = 0.7)\n",
    "\n",
    "#rotate the x labels\n",
    "plt.xticks(rotation = 30)\n",
    "\n",
    "#display the plot\n",
    "plt.show()"
   ]
  },
  {
   "cell_type": "markdown",
   "id": "3f8a30e1",
   "metadata": {},
   "source": [
    "### Create mutiple subplots"
   ]
  },
  {
   "cell_type": "code",
   "execution_count": 98,
   "id": "67ea91a2",
   "metadata": {},
   "outputs": [
    {
     "name": "stderr",
     "output_type": "stream",
     "text": [
      "C:\\Users\\User\\AppData\\Local\\Temp\\ipykernel_17480\\469200481.py:9: UserWarning: FixedFormatter should only be used together with FixedLocator\n",
      "  ax[0].set_xticklabels(df_students.name, rotation = 90)\n",
      "C:\\Users\\User\\AppData\\Local\\Temp\\ipykernel_17480\\469200481.py:21: UserWarning: Matplotlib is currently using module://matplotlib_inline.backend_inline, which is a non-GUI backend, so cannot show the figure.\n",
      "  fig.show()\n"
     ]
    },
    {
     "data": {
      "image/png": "[encoded data removed]",
      "text/plain": [
       "<Figure size 1008x432 with 2 Axes>"
      ]
     },
     "metadata": {
      "needs_background": "light"
     },
     "output_type": "display_data"
    }
   ],
   "source": [
    "#create a figure for 2 subplots 1 row, 2 columns\n",
    "fig, ax = plt.subplots(1,2, figsize = (14,6))\n",
    "\n",
    "#first plot, a bar chart of name vs grade\n",
    "ax[0].bar(df_students.name, height = df_students.grades, color = 'orange')\n",
    "ax[0].set_title('Student Grades')\n",
    "\n",
    "#rotate the x labels\n",
    "ax[0].set_xticklabels(df_students.name, rotation = 90)\n",
    "\n",
    "#second plot, a pie chart of count students who passed or failed\n",
    "pass_count = df_students['pass'].value_counts()\n",
    "ax[1].pie(pass_count, labels = pass_count)\n",
    "ax[1].set_title('Passing Grades')\n",
    "ax[1].legend(pass_count.keys().tolist())\n",
    "\n",
    "#add a ttile for the figure\n",
    "fig.suptitle('Students Grades')\n",
    "\n",
    "#display the figure\n",
    "fig.show()"
   ]
  },
  {
   "cell_type": "markdown",
   "id": "ec849ec7",
   "metadata": {},
   "source": [
    "## Getting Started with Statistical analysis"
   ]
  },
  {
   "cell_type": "code",
   "execution_count": 99,
   "id": "4d5cd18d",
   "metadata": {},
   "outputs": [
    {
     "data": {
      "image/png": "[encoded data removed]",
      "text/plain": [
       "<Figure size 720x432 with 1 Axes>"
      ]
     },
     "metadata": {
      "needs_background": "light"
     },
     "output_type": "display_data"
    }
   ],
   "source": [
    "#Plot the distributionn of grades \n",
    "\n",
    "#create a var and assign grades to it\n",
    "var_grade = df_students.grades\n",
    "\n",
    "#create a figure\n",
    "plt.figure(figsize = (10,6))\n",
    "\n",
    "plt.hist(var_grade)\n",
    "\n",
    "plt.title('Grade Distribution')\n",
    "plt.xlabel('Value')\n",
    "plt.ylabel('Frequency')\n",
    "\n",
    "plt.show()"
   ]
  },
  {
   "cell_type": "markdown",
   "id": "27bdbada",
   "metadata": {},
   "source": [
    "#### Determine the measure of sentral tendency, \n",
    "> Three ways to determine this: Mean, Median, Mode"
   ]
  },
  {
   "cell_type": "code",
   "execution_count": 100,
   "id": "022043f5",
   "metadata": {
    "scrolled": true
   },
   "outputs": [
    {
     "name": "stdout",
     "output_type": "stream",
     "text": [
      "Minimum:3.00\n",
      "Mean:49.18\n",
      "Median:49.50\n",
      "Mode:50.00\n",
      "Maximum:97.00\n",
      "\n"
     ]
    },
    {
     "data": {
      "image/png": "[encoded data removed]",
      "text/plain": [
       "<Figure size 720x432 with 2 Axes>"
      ]
     },
     "metadata": {
      "needs_background": "light"
     },
     "output_type": "display_data"
    }
   ],
   "source": [
    "min_val = var_grade.min()\n",
    "max_val =  var_grade.max()\n",
    "mean_val = var_grade.mean()\n",
    "med_val = var_grade.median()\n",
    "mod_val = var_grade.mode()[0]\n",
    "\n",
    "print('Minimum:{:.2f}\\nMean:{:.2f}\\nMedian:{:.2f}\\nMode:{:.2f}\\nMaximum:{:.2f}\\n'.format(min_val,\n",
    "                                                                                        mean_val,\n",
    "                                                                                        med_val,\n",
    "                                                                                        mod_val,\n",
    "                                                                                        max_val))\n",
    "fig, ax = plt.subplots(1,2,figsize = (10,6))\n",
    "\n",
    "\n",
    "#plot a hist of grades\n",
    "ax[0].hist(var_grade)\n",
    "ax[0].set_xlabel('value')\n",
    "\n",
    "#add the lines for measuring the central tenedency of the data\n",
    "ax[0].axvline(x = min_val, color = 'gray', linestyle = '--', linewidth = 2)\n",
    "ax[0].axvline(x=mean_val, color = 'cyan', linestyle='dashed', linewidth = 2)\n",
    "ax[0].axvline(x=med_val, color = 'red', linestyle='dashed', linewidth = 2)\n",
    "ax[0].axvline(x=mod_val, color = 'yellow', linestyle='dashed', linewidth = 2)\n",
    "ax[0].axvline(x=max_val, color = 'gray', linestyle='dashed', linewidth = 2)\n",
    "\n",
    "#plot a boxplot\n",
    "ax[1].boxplot(var_grade, vert= False)\n",
    "ax[1].set_xlabel('value')\n",
    "\n",
    "fig.suptitle('Grades Distribution')\n",
    "\n",
    "plt.show()\n"
   ]
  },
  {
   "cell_type": "markdown",
   "id": "ca341523",
   "metadata": {},
   "source": [
    "All of the measurements of central tendency are right in the middle of the data distribution, which is symmetric with values becoming progressively lower in both directions from the middle."
   ]
  },
  {
   "cell_type": "markdown",
   "id": "e33efbe3",
   "metadata": {},
   "source": [
    "#### Probability density function,estimates the distribution of grades for the full population."
   ]
  },
  {
   "cell_type": "code",
   "execution_count": 101,
   "id": "9db3e0b6",
   "metadata": {},
   "outputs": [
    {
     "data": {
      "image/png": "[encoded data removed]",
      "text/plain": [
       "<Figure size 720x432 with 1 Axes>"
      ]
     },
     "metadata": {
      "needs_background": "light"
     },
     "output_type": "display_data"
    }
   ],
   "source": [
    "#using a function plot the distribution density for grades\n",
    "def show_density(var_data):\n",
    "    import matplotlib.pyplot as plt\n",
    "    \n",
    "    plt.figure(figsize = (10,6))\n",
    "    \n",
    "    var_data.plot.density()\n",
    "    \n",
    "    plt.title('Data Density')\n",
    "    \n",
    "    plt.axvline(x=var_data.mean(), color = 'cyan', linestyle='dashed', linewidth = 2)\n",
    "    plt.axvline(x=var_data.median(), color = 'red', linestyle='dashed', linewidth = 2)\n",
    "    plt.axvline(x=var_data.mode()[0], color = 'yellow', linestyle='dashed', linewidth = 2)\n",
    "    \n",
    "    plt.show()\n",
    "    \n",
    "col = df_students['grades']\n",
    "show_density(col)"
   ]
  },
  {
   "cell_type": "markdown",
   "id": "15e84c64",
   "metadata": {},
   "source": [
    "Lets investigate the distribution of study hours"
   ]
  },
  {
   "cell_type": "code",
   "execution_count": 102,
   "id": "dafbf102",
   "metadata": {},
   "outputs": [
    {
     "data": {
      "image/png": "[encoded data removed]",
      "text/plain": [
       "<Figure size 720x432 with 1 Axes>"
      ]
     },
     "metadata": {
      "needs_background": "light"
     },
     "output_type": "display_data"
    }
   ],
   "source": [
    "col = df_students['study_hour']\n",
    "\n",
    "show_density(col)"
   ]
  },
  {
   "cell_type": "code",
   "execution_count": 103,
   "id": "e5e53fbb",
   "metadata": {},
   "outputs": [
    {
     "name": "stdout",
     "output_type": "stream",
     "text": [
      "Minimum:1.00\n",
      "Mean:10.52\n",
      "Median:10.00\n",
      "Mode:9.00\n",
      "Maximum:16.00\n",
      "\n"
     ]
    },
    {
     "data": {
      "image/png": "[encoded data removed]",
      "text/plain": [
       "<Figure size 720x432 with 2 Axes>"
      ]
     },
     "metadata": {
      "needs_background": "light"
     },
     "output_type": "display_data"
    }
   ],
   "source": [
    "def show_distribution(var_data):\n",
    "    min_val = var_data.min()\n",
    "    max_val =  var_data.max()\n",
    "    mean_val = var_data.mean()\n",
    "    med_val = var_data.median()\n",
    "    mod_val = var_data.mode()[0]\n",
    "\n",
    "    print('Minimum:{:.2f}\\nMean:{:.2f}\\nMedian:{:.2f}\\nMode:{:.2f}\\nMaximum:{:.2f}\\n'.format(min_val,\n",
    "                                                                                            mean_val,\n",
    "                                                                                            med_val,\n",
    "                                                                                            mod_val,\n",
    "                                                                                            max_val))\n",
    "    fig, ax = plt.subplots(1,2,figsize = (10,6))\n",
    "\n",
    "\n",
    "    #plot a hist of grades\n",
    "    ax[0].hist(var_data)\n",
    "    ax[0].set_xlabel('value')\n",
    "\n",
    "    #add the lines for measuring the central tenedency of the data\n",
    "    ax[0].axvline(x = min_val, color = 'gray', linestyle = '--', linewidth = 2)\n",
    "    ax[0].axvline(x=mean_val, color = 'cyan', linestyle='dashed', linewidth = 2)\n",
    "    ax[0].axvline(x=med_val, color = 'red', linestyle='dashed', linewidth = 2)\n",
    "    ax[0].axvline(x=mod_val, color = 'yellow', linestyle='dashed', linewidth = 2)\n",
    "    ax[0].axvline(x=max_val, color = 'gray', linestyle='dashed', linewidth = 2)\n",
    "\n",
    "    #plot a boxplot\n",
    "    ax[1].boxplot(var_data, vert= False)\n",
    "    ax[1].set_xlabel('value')\n",
    "\n",
    "    fig.suptitle('Grades Distribution')\n",
    "\n",
    "    plt.show()\n",
    "    \n",
    "show_distribution(col)"
   ]
  },
  {
   "cell_type": "markdown",
   "id": "94382d55",
   "metadata": {},
   "source": [
    "From the above we can see the dataset has an outlier of study hour marked as 0, we fliter out any value before 1 and plot the distribution it."
   ]
  },
  {
   "cell_type": "code",
   "execution_count": 104,
   "id": "3b1901e8",
   "metadata": {},
   "outputs": [
    {
     "name": "stdout",
     "output_type": "stream",
     "text": [
      "Minimum:1.00\n",
      "Mean:10.52\n",
      "Median:10.00\n",
      "Mode:9.00\n",
      "Maximum:16.00\n",
      "\n"
     ]
    },
    {
     "data": {
      "image/png": "[encoded data removed]",
      "text/plain": [
       "<Figure size 720x432 with 2 Axes>"
      ]
     },
     "metadata": {
      "needs_background": "light"
     },
     "output_type": "display_data"
    }
   ],
   "source": [
    "col = df_students[df_students['study_hour'] >= 1]['study_hour']\n",
    "\n",
    "show_distribution(col)"
   ]
  },
  {
   "cell_type": "markdown",
   "id": "78f97680",
   "metadata": {},
   "source": [
    "Note value 1 could also be an outlier only that out sample size is quite small and it will be difficult to actually consider 1 as an outlier but \n",
    "> we could use pandas quantile funtion to disregard any observtaion below 0.01 percentile "
   ]
  },
  {
   "cell_type": "code",
   "execution_count": 105,
   "id": "4e34c704",
   "metadata": {},
   "outputs": [
    {
     "name": "stdout",
     "output_type": "stream",
     "text": [
      "Minimum:6.00\n",
      "Mean:10.98\n",
      "Median:10.00\n",
      "Mode:9.00\n",
      "Maximum:16.00\n",
      "\n"
     ]
    },
    {
     "data": {
      "image/png": "[encoded data removed]",
      "text/plain": [
       "<Figure size 720x432 with 2 Axes>"
      ]
     },
     "metadata": {
      "needs_background": "light"
     },
     "output_type": "display_data"
    }
   ],
   "source": [
    "q01 = df_students.study_hour.quantile(0.01)\n",
    "\n",
    "col = df_students[df_students.study_hour >q01]['study_hour']\n",
    "\n",
    "show_distribution(col)"
   ]
  },
  {
   "cell_type": "code",
   "execution_count": 106,
   "id": "91966d48",
   "metadata": {},
   "outputs": [
    {
     "data": {
      "image/png": "[encoded data removed]",
      "text/plain": [
       "<Figure size 720x432 with 1 Axes>"
      ]
     },
     "metadata": {
      "needs_background": "light"
     },
     "output_type": "display_data"
    }
   ],
   "source": [
    "show_density(col)"
   ]
  },
  {
   "cell_type": "markdown",
   "id": "f63f647b",
   "metadata": {},
   "source": [
    "This kind of distribution is called right skewed. The mass of the data is on the left side of the distribution, creating a long tail to the right because of the values at the extreme high end; which pull the mean to the right."
   ]
  },
  {
   "cell_type": "markdown",
   "id": "90fe3817",
   "metadata": {},
   "source": [
    "### Measures of variance"
   ]
  },
  {
   "cell_type": "markdown",
   "id": "250b6db6",
   "metadata": {},
   "source": [
    "Typical statistics that measure variability in the data include:\n",
    "\n",
    "> **Range:** The difference between the maximum and minimum. There's no built-in function for this, but it's easy to calculate using the min and max functions.\n",
    "\n",
    "> **Variance:** The average of the squared difference from the mean. You can use the built-in var function to find this.\n",
    "\n",
    "> **Standard Deviation:** The square root of the variance. You can use the built-in std function to find this."
   ]
  },
  {
   "cell_type": "code",
   "execution_count": 107,
   "id": "9d8324f9",
   "metadata": {},
   "outputs": [
    {
     "data": {
      "text/plain": [
       "Index(['grades', 'study_hour', 'name', 'pass'], dtype='object')"
      ]
     },
     "execution_count": 107,
     "metadata": {},
     "output_type": "execute_result"
    }
   ],
   "source": [
    "df_students.columns"
   ]
  },
  {
   "cell_type": "code",
   "execution_count": 109,
   "id": "653cea1c",
   "metadata": {},
   "outputs": [
    {
     "name": "stdout",
     "output_type": "stream",
     "text": [
      "\n",
      "grades:\n",
      " - Range: 94.00\n",
      " - Variance: 472.54\n",
      " - Std.Dev: 21.74\n",
      "\n",
      "study_hour:\n",
      " - Range: 15.00\n",
      " - Variance: 12.16\n",
      " - Std.Dev: 3.49\n"
     ]
    }
   ],
   "source": [
    "for col_name in ['grades','study_hour']:\n",
    "    col = df_students[col_name]\n",
    "    rng = col.max() - col.min()\n",
    "    var = col.var()\n",
    "    std  = col.std()\n",
    "    \n",
    "    print('\\n{}:\\n - Range: {:.2f}\\n - Variance: {:.2f}\\n - Std.Dev: {:.2f}'.format(col_name, rng, var, std))"
   ]
  },
  {
   "cell_type": "markdown",
   "id": "d974d326",
   "metadata": {},
   "source": [
    "Standard Devaition provides measure of variance in the data on the same scale as the data itself (so grade points for the Grade distribution and hours for the StudyHours distribution). The higher the standard deviation, the more variance there is when comparing values in the distribution to the distribution mean - in other words, the data is more spread out."
   ]
  },
  {
   "cell_type": "code",
   "execution_count": null,
   "id": "81e73c47",
   "metadata": {},
   "outputs": [],
   "source": [
    "import scipy.stats as stats\n",
    "\n",
    "col = df_students['grades']\n",
    "\n",
    "density = stats.gaussian_kde()\n",
    "\n",
    "col.plot.density()\n",
    "\n",
    "s = col.std()\n",
    "m = col.mean()\n",
    "\n",
    "#Annotate 1 stdev\n",
    "x1 = [m-s, m+s]\n",
    "y1 = density(x1)\n",
    "plt.plot(x1,y1, color = 'magenta')\n",
    "plt.annotate('1 std (68.26%)', (x1[1], y1[1]))\n",
    "\n",
    "#annotate 2 stdev\n",
    "x2 = [m- (s*2), m+(s*)]"
   ]
  }
 ],
 "metadata": {
  "kernelspec": {
   "display_name": "Python 3 (ipykernel)",
   "language": "python",
   "name": "python3"
  },
  "language_info": {
   "codemirror_mode": {
    "name": "ipython",
    "version": 3
   },
   "file_extension": ".py",
   "mimetype": "text/x-python",
   "name": "python",
   "nbconvert_exporter": "python",
   "pygments_lexer": "ipython3",
   "version": "3.9.12"
  }
 },
 "nbformat": 4,
 "nbformat_minor": 5
}
